{
  "nbformat": 4,
  "nbformat_minor": 0,
  "metadata": {
    "kernelspec": {
      "display_name": "Python 3",
      "language": "python",
      "name": "python3"
    },
    "language_info": {
      "codemirror_mode": {
        "name": "ipython",
        "version": 3
      },
      "file_extension": ".py",
      "mimetype": "text/x-python",
      "name": "python",
      "nbconvert_exporter": "python",
      "pygments_lexer": "ipython3",
      "version": "3.6.8"
    },
    "colab": {
      "name": "08-Functions and Methods Homework.ipynb",
      "provenance": [],
      "include_colab_link": true
    }
  },
  "cells": [
    {
      "cell_type": "markdown",
      "metadata": {
        "id": "view-in-github",
        "colab_type": "text"
      },
      "source": [
        "<a href=\"https://colab.research.google.com/github/sasireddyvari/CodeQuest_Python/blob/master/08_Functions_and_Methods_Homework.ipynb\" target=\"_parent\"><img src=\"https://colab.research.google.com/assets/colab-badge.svg\" alt=\"Open In Colab\"/></a>"
      ]
    },
    {
      "cell_type": "markdown",
      "metadata": {
        "id": "bZtf5f9g2uXk"
      },
      "source": [
        "# Functions and Methods Homework \n",
        "\n",
        "Complete the following questions:\n",
        "____\n",
        "**Write a function that computes the volume of a sphere given its radius.**\n",
        "<p>The volume of a sphere is given as $$\\frac{4}{3} πr^3$$</p>"
      ]
    },
    {
      "cell_type": "code",
      "metadata": {
        "id": "IgWLtmLT2uXz"
      },
      "source": [
        "def vol(rad):\n",
        "  #your code here\n",
        "  pi=3.14\n",
        "  r=rad**3\n",
        "  res=(4/3)*pi*r\n",
        "  return res"
      ],
      "execution_count": 1,
      "outputs": []
    },
    {
      "cell_type": "code",
      "metadata": {
        "id": "RcejQWU_2uX7",
        "colab": {
          "base_uri": "https://localhost:8080/"
        },
        "outputId": "917c23d3-ade7-4362-ec82-9010455d8120"
      },
      "source": [
        "# Check\n",
        "vol(2)"
      ],
      "execution_count": 2,
      "outputs": [
        {
          "output_type": "execute_result",
          "data": {
            "text/plain": [
              "33.49333333333333"
            ]
          },
          "metadata": {
            "tags": []
          },
          "execution_count": 2
        }
      ]
    },
    {
      "cell_type": "markdown",
      "metadata": {
        "id": "y2aBloSf2uX8"
      },
      "source": [
        "**Write a Python function to find the Max of three numbers (dont use max() function )**"
      ]
    },
    {
      "cell_type": "code",
      "metadata": {
        "id": "g8jQ4rgO2uX9"
      },
      "source": [
        "def maximum(num1, num2, num3):\n",
        "  #your code goes here\n",
        "  if num1>=num2 and num1 >= num3:\n",
        "    return num1\n",
        "  elif num2>=num1 and num2 >= num3:\n",
        "    return num2\n",
        "  else:\n",
        "    return num3"
      ],
      "execution_count": 7,
      "outputs": []
    },
    {
      "cell_type": "markdown",
      "metadata": {
        "id": "TTt5kKOo2uX-"
      },
      "source": [
        "___\n",
        "**Write a function that checks whether a number is in a given range (inclusive of high and low)**"
      ]
    },
    {
      "cell_type": "code",
      "metadata": {
        "collapsed": true,
        "id": "j-RxSus_2uX_"
      },
      "source": [
        "def ran_check(num,low,high):\n",
        "  if num > low and num < high:\n",
        "    print(num,\"is in the range of {0} and {1}\".format(low,high))\n",
        "  else:\n",
        "    print(num,\"isn't in the range of {0} and {1}\".format(low,high))"
      ],
      "execution_count": 8,
      "outputs": []
    },
    {
      "cell_type": "code",
      "metadata": {
        "id": "xEG7mcVH2uYA",
        "colab": {
          "base_uri": "https://localhost:8080/"
        },
        "outputId": "438141e5-e6f4-4633-c144-d5f4cbb96817"
      },
      "source": [
        "# Check\n",
        "ran_check(5,2,7)"
      ],
      "execution_count": 9,
      "outputs": [
        {
          "output_type": "stream",
          "text": [
            "5 is in the range of 2 and 7\n"
          ],
          "name": "stdout"
        }
      ]
    },
    {
      "cell_type": "markdown",
      "metadata": {
        "id": "5AfTQtWi2uYB"
      },
      "source": [
        "If you only wanted to return a boolean:"
      ]
    },
    {
      "cell_type": "code",
      "metadata": {
        "collapsed": true,
        "id": "al_exxU22uYB"
      },
      "source": [
        "def ran_bool(num,low,high):\n",
        "    #your code here\n",
        "  if num>low and num<high:\n",
        "    return True\n",
        "  else:\n",
        "    return False"
      ],
      "execution_count": 10,
      "outputs": []
    },
    {
      "cell_type": "code",
      "metadata": {
        "id": "bhC_gxjQ2uYC",
        "colab": {
          "base_uri": "https://localhost:8080/"
        },
        "outputId": "a8aa5939-567d-41d3-e4bc-f418dfd04b0d"
      },
      "source": [
        "ran_bool(3,1,10)"
      ],
      "execution_count": 11,
      "outputs": [
        {
          "output_type": "execute_result",
          "data": {
            "text/plain": [
              "True"
            ]
          },
          "metadata": {
            "tags": []
          },
          "execution_count": 11
        }
      ]
    },
    {
      "cell_type": "markdown",
      "metadata": {
        "id": "Ul2vABAI2uYD"
      },
      "source": [
        "____\n",
        "**Write a Python function that accepts a string and calculates the number of upper case letters and lower case letters.**\n",
        "\n",
        "    Sample String : 'Hello Mr. Rogers, how are you this fine Tuesday?'\n",
        "    Expected Output : \n",
        "    No. of Upper case characters : 4\n",
        "    No. of Lower case Characters : 33\n",
        "\n",
        "HINT: Two string methods that might prove useful: **.isupper()** and **.islower()**\n",
        "\n",
        "If you feel ambitious, explore the Collections module to solve this problem!"
      ]
    },
    {
      "cell_type": "code",
      "metadata": {
        "collapsed": true,
        "id": "rUkh5xY62uYE"
      },
      "source": [
        "def up_low(s):\n",
        "  #your code here\n",
        "  u,l=0,0\n",
        "  for i in s:\n",
        "    if i.isupper():\n",
        "      u+=1\n",
        "    elif i.islower():\n",
        "      #print(i,l)\n",
        "      l+=1\n",
        "  return(\"upper:{0},lower:{1}\".format(u,l))"
      ],
      "execution_count": 20,
      "outputs": []
    },
    {
      "cell_type": "code",
      "metadata": {
        "id": "wQqptwaB2uYE",
        "colab": {
          "base_uri": "https://localhost:8080/",
          "height": 35
        },
        "outputId": "2b77ca49-acb5-4fbf-8229-014e30f695a1"
      },
      "source": [
        "s = 'Hello Mr. Rogers, how are you this fine Tuesday?'\n",
        "up_low(s)"
      ],
      "execution_count": 21,
      "outputs": [
        {
          "output_type": "execute_result",
          "data": {
            "application/vnd.google.colaboratory.intrinsic+json": {
              "type": "string"
            },
            "text/plain": [
              "'upper:4,lower:33'"
            ]
          },
          "metadata": {
            "tags": []
          },
          "execution_count": 21
        }
      ]
    },
    {
      "cell_type": "markdown",
      "metadata": {
        "id": "3DxwU2XC2uYF"
      },
      "source": [
        "____\n",
        "**Write a Python function that takes a list and returns a new list with unique elements of the first list.**\n",
        "\n",
        "    Sample List : [1,1,1,1,2,2,3,3,3,3,4,5]\n",
        "    Unique List : [1, 2, 3, 4, 5]"
      ]
    },
    {
      "cell_type": "code",
      "metadata": {
        "collapsed": true,
        "id": "pnTlrLRx2uYG"
      },
      "source": [
        "def unique_list(lst):\n",
        "    #your code here\n",
        "  se=set(lst)\n",
        "  lst=list(se)\n",
        "  return lst"
      ],
      "execution_count": 24,
      "outputs": []
    },
    {
      "cell_type": "code",
      "metadata": {
        "id": "r_kr9wA92uYG",
        "colab": {
          "base_uri": "https://localhost:8080/"
        },
        "outputId": "4a4a9ba0-0940-40b7-cf34-d77779c31147"
      },
      "source": [
        "unique_list([1,1,1,1,2,2,3,3,3,3,4,5])"
      ],
      "execution_count": 25,
      "outputs": [
        {
          "output_type": "execute_result",
          "data": {
            "text/plain": [
              "[1, 2, 3, 4, 5]"
            ]
          },
          "metadata": {
            "tags": []
          },
          "execution_count": 25
        }
      ]
    },
    {
      "cell_type": "markdown",
      "metadata": {
        "id": "QrXqw9T12uYH"
      },
      "source": [
        "**Write a Python function to create and print a list where the values are square of numbers between 1 and 30 (both included)**"
      ]
    },
    {
      "cell_type": "code",
      "metadata": {
        "id": "GfJLIfTi2uYH",
        "colab": {
          "base_uri": "https://localhost:8080/"
        },
        "outputId": "bf4f4c5a-66a6-405a-c0a3-1c03729295aa"
      },
      "source": [
        "def squre_vals():\n",
        "    #your code here\n",
        "    vals=[val**2 for val in range(1,31)]\n",
        "    return vals\n",
        "\n",
        "squre_vals()"
      ],
      "execution_count": 30,
      "outputs": [
        {
          "output_type": "execute_result",
          "data": {
            "text/plain": [
              "[1,\n",
              " 4,\n",
              " 9,\n",
              " 16,\n",
              " 25,\n",
              " 36,\n",
              " 49,\n",
              " 64,\n",
              " 81,\n",
              " 100,\n",
              " 121,\n",
              " 144,\n",
              " 169,\n",
              " 196,\n",
              " 225,\n",
              " 256,\n",
              " 289,\n",
              " 324,\n",
              " 361,\n",
              " 400,\n",
              " 441,\n",
              " 484,\n",
              " 529,\n",
              " 576,\n",
              " 625,\n",
              " 676,\n",
              " 729,\n",
              " 784,\n",
              " 841,\n",
              " 900]"
            ]
          },
          "metadata": {
            "tags": []
          },
          "execution_count": 30
        }
      ]
    },
    {
      "cell_type": "markdown",
      "metadata": {
        "id": "mIwBwXtK2uYI"
      },
      "source": [
        "**Write a recursive function to calculate the sum of numbers from 0 to 10**"
      ]
    },
    {
      "cell_type": "code",
      "metadata": {
        "id": "JkqWVSCX2uYI",
        "colab": {
          "base_uri": "https://localhost:8080/"
        },
        "outputId": "354b22e5-0c6b-422d-ceee-817aa6890230"
      },
      "source": [
        "def resum(n):\n",
        "  #your code here\n",
        "  if n <= 1: \n",
        "    return n \n",
        "  return n + resum(n - 1) \n",
        "\n",
        "resum(5)"
      ],
      "execution_count": 31,
      "outputs": [
        {
          "output_type": "execute_result",
          "data": {
            "text/plain": [
              "15"
            ]
          },
          "metadata": {
            "tags": []
          },
          "execution_count": 31
        }
      ]
    },
    {
      "cell_type": "markdown",
      "metadata": {
        "id": "xpVtLvpL2uYI"
      },
      "source": [
        "____\n",
        "**Write a Python function to multiply all the numbers in a list.**\n",
        "\n",
        "    Sample List : [1, 2, 3, -4]\n",
        "    Expected Output : -24"
      ]
    },
    {
      "cell_type": "code",
      "metadata": {
        "collapsed": true,
        "id": "jACP1VtP2uYJ"
      },
      "source": [
        "from functools import reduce\n",
        "def multiply(numbers):  \n",
        "  #   #your code here\n",
        "  # result = 1\n",
        "  # for x in numbers:\n",
        "  #   result = result * x \n",
        "  # return result \n",
        "  res=reduce((lambda x, y: x * y), numbers)\n",
        "  return res"
      ],
      "execution_count": 36,
      "outputs": []
    },
    {
      "cell_type": "code",
      "metadata": {
        "id": "l3-5N0QH2uYJ",
        "colab": {
          "base_uri": "https://localhost:8080/"
        },
        "outputId": "cb4ea866-ee90-420a-c38f-f10e599bd0fa"
      },
      "source": [
        "multiply([1,2,3,-4])"
      ],
      "execution_count": 37,
      "outputs": [
        {
          "output_type": "execute_result",
          "data": {
            "text/plain": [
              "-24"
            ]
          },
          "metadata": {
            "tags": []
          },
          "execution_count": 37
        }
      ]
    },
    {
      "cell_type": "markdown",
      "metadata": {
        "id": "rQqWBj2r2uYK"
      },
      "source": [
        "____\n",
        "**Write a Python function that checks whether a word or phrase is palindrome or not.**\n",
        "\n",
        "Note: A palindrome is word, phrase, or sequence that reads the same backward as forward, e.g., madam,kayak,racecar, or a phrase \"nurses run\". Hint: You may want to check out the .replace() method in a string to help out with dealing with spaces. Also google search how to reverse a string in Python, there are some clever ways to do it with slicing notation."
      ]
    },
    {
      "cell_type": "code",
      "metadata": {
        "collapsed": true,
        "id": "6xuxXzLd2uYK"
      },
      "source": [
        "def palindrome(s):\n",
        "    #your code here\n",
        "  rev=s[::-1]\n",
        "  if s==rev:\n",
        "    return True\n",
        "  else:\n",
        "    False"
      ],
      "execution_count": 38,
      "outputs": []
    },
    {
      "cell_type": "code",
      "metadata": {
        "id": "q5P3qJjm2uYL",
        "colab": {
          "base_uri": "https://localhost:8080/"
        },
        "outputId": "c0160bf0-d5bf-42b7-834e-b78405b8a626"
      },
      "source": [
        "palindrome('helleh')"
      ],
      "execution_count": 39,
      "outputs": [
        {
          "output_type": "execute_result",
          "data": {
            "text/plain": [
              "True"
            ]
          },
          "metadata": {
            "tags": []
          },
          "execution_count": 39
        }
      ]
    },
    {
      "cell_type": "markdown",
      "metadata": {
        "id": "qEbhz6S42uYL"
      },
      "source": [
        "**Write a Python function to calculate the factorial of a number (a non-negative integer). The function accepts the number as an argument**"
      ]
    },
    {
      "cell_type": "code",
      "metadata": {
        "id": "Id9OrzDO2uYM",
        "colab": {
          "base_uri": "https://localhost:8080/"
        },
        "outputId": "c963d35b-b459-4ef5-b496-e520ac68fbf7"
      },
      "source": [
        "def factorial(num):\n",
        "    #your code here\n",
        "    #return in last\n",
        "  return 1 if (num==1 or num==0) else num * factorial(num - 1)\n",
        "\n",
        "factorial(4)"
      ],
      "execution_count": 46,
      "outputs": [
        {
          "output_type": "execute_result",
          "data": {
            "text/plain": [
              "24"
            ]
          },
          "metadata": {
            "tags": []
          },
          "execution_count": 46
        }
      ]
    },
    {
      "cell_type": "markdown",
      "metadata": {
        "id": "zIxmE5-z2uYM"
      },
      "source": [
        "____\n",
        "#### Hard:\n",
        "\n",
        "**Write a Python function to check whether a string is pangram or not. (Assume the string passed in does not have any punctuation)**\n",
        "\n",
        "    Note : Pangrams are words or sentences containing every letter of the alphabet at least once.\n",
        "    For example : \"The quick brown fox jumps over the lazy dog\"\n",
        "\n",
        "Hint: You may want to use .replace() method to get rid of spaces.\n",
        "\n",
        "Hint: Look at the [string module](https://stackoverflow.com/questions/16060899/alphabet-range-in-python)\n",
        "\n",
        "Hint: In case you want to use [set comparisons](https://medium.com/better-programming/a-visual-guide-to-set-comparisons-in-python-6ab7edb9ec41)"
      ]
    },
    {
      "cell_type": "code",
      "metadata": {
        "collapsed": true,
        "id": "Eh6bEXvR2uYN"
      },
      "source": [
        "import string\n",
        "\n",
        "def ispangram(str1, alphabet=string.ascii_lowercase):\n",
        "  for char in alphabet: \n",
        "    if char not in str1.lower(): \n",
        "      return False\n",
        "  return True"
      ],
      "execution_count": 52,
      "outputs": []
    },
    {
      "cell_type": "code",
      "metadata": {
        "id": "KouSZTlj2uYN",
        "colab": {
          "base_uri": "https://localhost:8080/"
        },
        "outputId": "ce2fabb4-32fd-461e-c064-cf6b5594b5cf"
      },
      "source": [
        "ispangram(\"The quick brown fox jumps over the lazy dog\")"
      ],
      "execution_count": 53,
      "outputs": [
        {
          "output_type": "execute_result",
          "data": {
            "text/plain": [
              "True"
            ]
          },
          "metadata": {
            "tags": []
          },
          "execution_count": 53
        }
      ]
    },
    {
      "cell_type": "code",
      "metadata": {
        "id": "yqRK6JUP2uYO",
        "colab": {
          "base_uri": "https://localhost:8080/",
          "height": 35
        },
        "outputId": "6595b566-3d8a-4cb0-b485-1e40c2f5b229"
      },
      "source": [
        "string.ascii_lowercase"
      ],
      "execution_count": 54,
      "outputs": [
        {
          "output_type": "execute_result",
          "data": {
            "application/vnd.google.colaboratory.intrinsic+json": {
              "type": "string"
            },
            "text/plain": [
              "'abcdefghijklmnopqrstuvwxyz'"
            ]
          },
          "metadata": {
            "tags": []
          },
          "execution_count": 54
        }
      ]
    },
    {
      "cell_type": "markdown",
      "metadata": {
        "collapsed": true,
        "id": "4K0oUcpV2uYO"
      },
      "source": [
        "#### Great Job!"
      ]
    }
  ]
}