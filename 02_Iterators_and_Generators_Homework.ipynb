{
  "nbformat": 4,
  "nbformat_minor": 0,
  "metadata": {
    "kernelspec": {
      "display_name": "Python 3",
      "language": "python",
      "name": "python3"
    },
    "language_info": {
      "codemirror_mode": {
        "name": "ipython",
        "version": 3
      },
      "file_extension": ".py",
      "mimetype": "text/x-python",
      "name": "python",
      "nbconvert_exporter": "python",
      "pygments_lexer": "ipython3",
      "version": "3.6.8"
    },
    "colab": {
      "name": "02-Iterators and Generators Homework.ipynb",
      "provenance": [],
      "collapsed_sections": [],
      "include_colab_link": true
    }
  },
  "cells": [
    {
      "cell_type": "markdown",
      "metadata": {
        "id": "view-in-github",
        "colab_type": "text"
      },
      "source": [
        "<a href=\"https://colab.research.google.com/github/sasireddyvari/CodeQuest_Python/blob/master/02_Iterators_and_Generators_Homework.ipynb\" target=\"_parent\"><img src=\"https://colab.research.google.com/assets/colab-badge.svg\" alt=\"Open In Colab\"/></a>"
      ]
    },
    {
      "cell_type": "markdown",
      "metadata": {
        "id": "eMkwgoJ6ybOl"
      },
      "source": [
        "# Iterators and Generators Homework \n",
        "\n",
        "### Problem 1\n",
        "\n",
        "Create a generator that generates the squares of numbers up to some number N."
      ]
    },
    {
      "cell_type": "code",
      "metadata": {
        "collapsed": true,
        "id": "5IZlOznuybO5"
      },
      "source": [
        "def gensquares(N):\n",
        "  for i in range(N):\n",
        "    yield i**2"
      ],
      "execution_count": 1,
      "outputs": []
    },
    {
      "cell_type": "code",
      "metadata": {
        "id": "Y13MjEf5ybPC",
        "colab": {
          "base_uri": "https://localhost:8080/"
        },
        "outputId": "369247e6-165f-4fe4-c93c-18b7fb833257"
      },
      "source": [
        "for x in gensquares(10):\n",
        "    print(x)"
      ],
      "execution_count": 2,
      "outputs": [
        {
          "output_type": "stream",
          "text": [
            "0\n",
            "1\n",
            "4\n",
            "9\n",
            "16\n",
            "25\n",
            "36\n",
            "49\n",
            "64\n",
            "81\n"
          ],
          "name": "stdout"
        }
      ]
    },
    {
      "cell_type": "markdown",
      "metadata": {
        "id": "J8WCQplBybPH"
      },
      "source": [
        "### Problem 2\n",
        "\n",
        "Create a generator that yields \"n\" random numbers between a low and high number (that are inputs). <br>Note: Use the random library. For example:"
      ]
    },
    {
      "cell_type": "code",
      "metadata": {
        "id": "1dB-V9wEybPI",
        "colab": {
          "base_uri": "https://localhost:8080/"
        },
        "outputId": "18692999-5ecb-4a2f-a1d9-d3fc175b6f7b"
      },
      "source": [
        "import random\n",
        "\n",
        "random.randint(1,10)"
      ],
      "execution_count": 5,
      "outputs": [
        {
          "output_type": "execute_result",
          "data": {
            "text/plain": [
              "1"
            ]
          },
          "metadata": {
            "tags": []
          },
          "execution_count": 5
        }
      ]
    },
    {
      "cell_type": "code",
      "metadata": {
        "collapsed": true,
        "id": "19evujsxybPJ"
      },
      "source": [
        "def rand_num(low,high,n):\n",
        "  for i in range(n):\n",
        "    yield random.randint(low, high)"
      ],
      "execution_count": 8,
      "outputs": []
    },
    {
      "cell_type": "code",
      "metadata": {
        "id": "hDPKBhQ8ybPK",
        "colab": {
          "base_uri": "https://localhost:8080/"
        },
        "outputId": "f49cbc46-ac8f-47c2-f0b9-1f5d987b868f"
      },
      "source": [
        "for num in rand_num(1,10,12):\n",
        "    print(num)"
      ],
      "execution_count": 9,
      "outputs": [
        {
          "output_type": "stream",
          "text": [
            "6\n",
            "6\n",
            "10\n",
            "5\n",
            "6\n",
            "4\n",
            "9\n",
            "7\n",
            "10\n",
            "3\n",
            "3\n",
            "10\n"
          ],
          "name": "stdout"
        }
      ]
    },
    {
      "cell_type": "markdown",
      "metadata": {
        "id": "ZGErOLnBybPL"
      },
      "source": [
        "### Problem 3\n",
        "\n",
        "Use the iter() function to convert the string below into an iterator:\n"
      ]
    },
    {
      "cell_type": "code",
      "metadata": {
        "collapsed": true,
        "id": "BUyJ2QD3ybPN"
      },
      "source": [
        "s = 'hello'\n",
        "s = s.__iter__() # by default string is an iterator \n",
        "#code here"
      ],
      "execution_count": 27,
      "outputs": []
    },
    {
      "cell_type": "code",
      "metadata": {
        "colab": {
          "base_uri": "https://localhost:8080/"
        },
        "id": "2XQv-_j41Q_f",
        "outputId": "29bbee4e-e786-403c-cc0c-7f7f6df60d99"
      },
      "source": [
        "for i in iter(s):\r\n",
        "  print(i)"
      ],
      "execution_count": 28,
      "outputs": [
        {
          "output_type": "stream",
          "text": [
            "h\n",
            "e\n",
            "l\n",
            "l\n",
            "o\n"
          ],
          "name": "stdout"
        }
      ]
    },
    {
      "cell_type": "code",
      "metadata": {
        "colab": {
          "base_uri": "https://localhost:8080/"
        },
        "id": "C6970xzZ2gqT",
        "outputId": "0a743386-0f38-4a61-fe41-61f891159c45"
      },
      "source": [
        "type(s)"
      ],
      "execution_count": 29,
      "outputs": [
        {
          "output_type": "execute_result",
          "data": {
            "text/plain": [
              "str_iterator"
            ]
          },
          "metadata": {
            "tags": []
          },
          "execution_count": 29
        }
      ]
    },
    {
      "cell_type": "markdown",
      "metadata": {
        "id": "Mpd8lsAxybPO"
      },
      "source": [
        "### Problem 4\n",
        "Explain a use case for a generator using a yield statement where you would not want to use a normal function with a return statement.<br><br><br><br><br><br>\n",
        "\n",
        "\n",
        "A generator, utilizing a yield statement, returns an iterator object. The iterator object will yield/return a value each time it is called upon to iterate through its code. So in cases where a return statement would be used to return the entirely of a list, the generator would only return the current iteration of the list, remembering its state where it was last yielded.\n"
      ]
    },
    {
      "cell_type": "markdown",
      "metadata": {
        "id": "gGczWE49ybPP"
      },
      "source": [
        "### Extra Credit!\n",
        "Can you explain what *gencomp* is in the code below? (Note: We never covered this in lecture! You will have to do some Googling/Stack Overflowing!)\n",
        "\n",
        "A generator expression is similar to a list comprehension. However it returns a generator rather than a list. Syntactically they are very similar with the exception being that list comps use [] and gen comps use ()."
      ]
    },
    {
      "cell_type": "code",
      "metadata": {
        "id": "bAoRt1fkybPQ",
        "colab": {
          "base_uri": "https://localhost:8080/"
        },
        "outputId": "d0c0874c-5ec9-4d27-bed3-def028bcef23"
      },
      "source": [
        "my_list = [1,2,3,4,5]\n",
        "\n",
        "gencomp = (item for item in my_list if item > 3)\n",
        "\n",
        "for item in gencomp:\n",
        "    print(item)"
      ],
      "execution_count": 30,
      "outputs": [
        {
          "output_type": "stream",
          "text": [
            "4\n",
            "5\n"
          ],
          "name": "stdout"
        }
      ]
    },
    {
      "cell_type": "code",
      "metadata": {
        "colab": {
          "base_uri": "https://localhost:8080/"
        },
        "id": "oZzDNW3036Wj",
        "outputId": "8b1e9ed7-208a-4850-d676-9608786c6572"
      },
      "source": [
        "type(gencomp)"
      ],
      "execution_count": 31,
      "outputs": [
        {
          "output_type": "execute_result",
          "data": {
            "text/plain": [
              "generator"
            ]
          },
          "metadata": {
            "tags": []
          },
          "execution_count": 31
        }
      ]
    },
    {
      "cell_type": "markdown",
      "metadata": {
        "id": "I3GIwYiqybPR"
      },
      "source": [
        "Hint: Google *generator comprehension*!\n",
        "\n",
        "# Great Job!"
      ]
    }
  ]
}