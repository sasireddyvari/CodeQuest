{
  "nbformat": 4,
  "nbformat_minor": 0,
  "metadata": {
    "kernelspec": {
      "display_name": "Python 3",
      "language": "python",
      "name": "python3"
    },
    "language_info": {
      "codemirror_mode": {
        "name": "ipython",
        "version": 3
      },
      "file_extension": ".py",
      "mimetype": "text/x-python",
      "name": "python",
      "nbconvert_exporter": "python",
      "pygments_lexer": "ipython3",
      "version": "3.6.8"
    },
    "colab": {
      "name": "02-Errors and Exceptions Homework.ipynb",
      "provenance": [],
      "collapsed_sections": [],
      "include_colab_link": true
    }
  },
  "cells": [
    {
      "cell_type": "markdown",
      "metadata": {
        "id": "view-in-github",
        "colab_type": "text"
      },
      "source": [
        "<a href=\"https://colab.research.google.com/github/sasireddyvari/CodeQuest_Python/blob/master/02_Errors_and_Exceptions_Homework.ipynb\" target=\"_parent\"><img src=\"https://colab.research.google.com/assets/colab-badge.svg\" alt=\"Open In Colab\"/></a>"
      ]
    },
    {
      "cell_type": "markdown",
      "metadata": {
        "id": "qixpZ6DlFkM0"
      },
      "source": [
        "# Errors and Exceptions Homework"
      ]
    },
    {
      "cell_type": "markdown",
      "metadata": {
        "id": "6qH-EAKBFkNE"
      },
      "source": [
        "### Problem 1\n",
        "Handle the exception thrown by the code below by using <code>try</code> and <code>except</code> blocks."
      ]
    },
    {
      "cell_type": "code",
      "metadata": {
        "id": "r6xtVRPrFkNP",
        "colab": {
          "base_uri": "https://localhost:8080/"
        },
        "outputId": "b9c91856-f471-4bb6-89f8-369a74bd8faa"
      },
      "source": [
        "for i in ['a','b','c']:\n",
        "  try:\n",
        "    print(i**2)\n",
        "  except TypeError:\n",
        "    print('Type Error occurred')\n",
        "    #break"
      ],
      "execution_count": 3,
      "outputs": [
        {
          "output_type": "stream",
          "text": [
            "Type Error occurred\n",
            "Type Error occurred\n",
            "Type Error occurred\n"
          ],
          "name": "stdout"
        }
      ]
    },
    {
      "cell_type": "markdown",
      "metadata": {
        "id": "ZIqE6a4uFkNU"
      },
      "source": [
        "### Problem 2\n",
        "Handle the exception thrown by the code below by using <code>try</code> and <code>except</code> blocks. Then use a <code>finally</code> block to print 'All Done.'"
      ]
    },
    {
      "cell_type": "code",
      "metadata": {
        "id": "KM-QKxA5FkNV",
        "colab": {
          "base_uri": "https://localhost:8080/"
        },
        "outputId": "72318aac-29d7-4479-beff-2b721f5d9f01"
      },
      "source": [
        "x = 5\n",
        "y = 0\n",
        "\n",
        "try:\n",
        "  z = x/y\n",
        "except ZeroDivisionError:\n",
        "  print('Zero Division Error Occurred')\n",
        "finally:\n",
        "  print('All DOne')"
      ],
      "execution_count": 5,
      "outputs": [
        {
          "output_type": "stream",
          "text": [
            "Zero Division Error Occurred\n",
            "All DOne\n"
          ],
          "name": "stdout"
        }
      ]
    },
    {
      "cell_type": "markdown",
      "metadata": {
        "id": "gadRqLsnFkNX"
      },
      "source": [
        "### Problem 3\n",
        "Write a function that asks for an integer and prints the square of it. Use a <code>while</code> loop with a <code>try</code>, <code>except</code>, <code>else</code> block to account for incorrect inputs."
      ]
    },
    {
      "cell_type": "code",
      "metadata": {
        "collapsed": true,
        "id": "qHmy9rRVFkNY"
      },
      "source": [
        "def ask():\n",
        "  \n",
        "  while True:\n",
        "    try:\n",
        "      i=int(input('Input an Integer: '))\n",
        "      res=i**2\n",
        "    except ValueError:\n",
        "      print('An error occurred! Please try again!')\n",
        "    else:\n",
        "      print('Thank you, your number squared is :'+ str(res))\n",
        "      break"
      ],
      "execution_count": 34,
      "outputs": []
    },
    {
      "cell_type": "code",
      "metadata": {
        "id": "PQX3JLgjFkNZ",
        "colab": {
          "base_uri": "https://localhost:8080/"
        },
        "outputId": "96a8052b-b166-452b-c412-e8e7b81790c7"
      },
      "source": [
        "ask()"
      ],
      "execution_count": 35,
      "outputs": [
        {
          "output_type": "stream",
          "text": [
            "Input an Integer: \n",
            "An error occurred! Please try again!\n",
            "Input an Integer: 2\n",
            "Thank you, your number squared is :4\n"
          ],
          "name": "stdout"
        }
      ]
    },
    {
      "cell_type": "markdown",
      "metadata": {
        "id": "AaA9ApOpFkNa"
      },
      "source": [
        "# Great Job!"
      ]
    },
    {
      "cell_type": "code",
      "metadata": {
        "id": "nK5DVbplP7h1"
      },
      "source": [
        ""
      ],
      "execution_count": null,
      "outputs": []
    }
  ]
}