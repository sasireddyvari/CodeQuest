{
  "nbformat": 4,
  "nbformat_minor": 0,
  "metadata": {
    "kernelspec": {
      "display_name": "Python 3",
      "language": "python",
      "name": "python3"
    },
    "language_info": {
      "codemirror_mode": {
        "name": "ipython",
        "version": 3
      },
      "file_extension": ".py",
      "mimetype": "text/x-python",
      "name": "python",
      "nbconvert_exporter": "python",
      "pygments_lexer": "ipython3",
      "version": "3.6.8"
    },
    "colab": {
      "name": "Decorators.ipynb",
      "provenance": [],
      "include_colab_link": true
    }
  },
  "cells": [
    {
      "cell_type": "markdown",
      "metadata": {
        "id": "view-in-github",
        "colab_type": "text"
      },
      "source": [
        "<a href=\"https://colab.research.google.com/github/sasireddyvari/CodeQuest_Python/blob/master/Decorators.ipynb\" target=\"_parent\"><img src=\"https://colab.research.google.com/assets/colab-badge.svg\" alt=\"Open In Colab\"/></a>"
      ]
    },
    {
      "cell_type": "markdown",
      "metadata": {
        "id": "60YMgWlFAU0m"
      },
      "source": [
        "# Decorators\n",
        "\n",
        "\n",
        "Decorators can be thought of as functions which modify the *functionality* of another function. They help to make your code shorter and more \"Pythonic\". \n",
        "\n",
        "To properly explain decorators we will slowly build up from functions. Make sure to run every cell in this Notebook for this lecture to look the same on your own computer.<br><br>So let's break down the steps:\n",
        "\n",
        "## Functions Review"
      ]
    },
    {
      "cell_type": "code",
      "metadata": {
        "collapsed": true,
        "id": "Eah-IZTzAU00"
      },
      "source": [
        "def func():\n",
        "    return 1"
      ],
      "execution_count": null,
      "outputs": []
    },
    {
      "cell_type": "code",
      "metadata": {
        "id": "Tfes_vE9AU05",
        "outputId": "a2f83bae-d96f-4833-806a-666b4060220a"
      },
      "source": [
        "func()"
      ],
      "execution_count": null,
      "outputs": [
        {
          "output_type": "execute_result",
          "data": {
            "text/plain": [
              "1"
            ]
          },
          "metadata": {
            "tags": []
          },
          "execution_count": 2
        }
      ]
    },
    {
      "cell_type": "markdown",
      "metadata": {
        "id": "nLYjnJmdAU07"
      },
      "source": [
        "Now lets continue with building out the logic of what a decorator is. Remember that in Python **everything is an object**. That means functions are objects which can be assigned labels and passed into other functions. Lets start with some simple examples:"
      ]
    },
    {
      "cell_type": "code",
      "metadata": {
        "id": "KB8LbGvbAU08"
      },
      "source": [
        "def hello(name='Jose'):\n",
        "    return 'Hello '+name"
      ],
      "execution_count": null,
      "outputs": []
    },
    {
      "cell_type": "code",
      "metadata": {
        "id": "dhaLa0fqAU08",
        "outputId": "ab10d439-9b11-45cf-80b8-1b40450b29dd"
      },
      "source": [
        "hello()"
      ],
      "execution_count": null,
      "outputs": [
        {
          "output_type": "execute_result",
          "data": {
            "text/plain": [
              "'Hello Jose'"
            ]
          },
          "metadata": {
            "tags": []
          },
          "execution_count": 7
        }
      ]
    },
    {
      "cell_type": "markdown",
      "metadata": {
        "id": "m2LBc8RSAU09"
      },
      "source": [
        "Assign another label to the function. Note that we are not using parentheses here because we are not calling the function **hello**, instead we are just passing a function object to the **greet** variable."
      ]
    },
    {
      "cell_type": "code",
      "metadata": {
        "collapsed": true,
        "id": "efxkJD91AU0-"
      },
      "source": [
        "greet = hello"
      ],
      "execution_count": null,
      "outputs": []
    },
    {
      "cell_type": "code",
      "metadata": {
        "id": "Uv5wMvxAAU0-",
        "outputId": "d6a21c8c-d156-41ea-edf0-57ed5de69b6e"
      },
      "source": [
        "greet"
      ],
      "execution_count": null,
      "outputs": [
        {
          "output_type": "execute_result",
          "data": {
            "text/plain": [
              "<function __main__.hello>"
            ]
          },
          "metadata": {
            "tags": []
          },
          "execution_count": 6
        }
      ]
    },
    {
      "cell_type": "code",
      "metadata": {
        "id": "vevJENFiAU0_",
        "outputId": "a41b2834-b63d-4f85-88da-b2d9072a7d75"
      },
      "source": [
        "greet()"
      ],
      "execution_count": null,
      "outputs": [
        {
          "output_type": "execute_result",
          "data": {
            "text/plain": [
              "'Hello Jose'"
            ]
          },
          "metadata": {
            "tags": []
          },
          "execution_count": 7
        }
      ]
    },
    {
      "cell_type": "markdown",
      "metadata": {
        "id": "nnanzqzsAU1A"
      },
      "source": [
        "So what happens when we delete the name **hello**?"
      ]
    },
    {
      "cell_type": "code",
      "metadata": {
        "collapsed": true,
        "id": "MJdyvaKiAU1A"
      },
      "source": [
        "del hello"
      ],
      "execution_count": null,
      "outputs": []
    },
    {
      "cell_type": "code",
      "metadata": {
        "id": "g_6NwqGFAU1B",
        "outputId": "a41c5355-00e6-4e3d-9d47-d6bc0660da98"
      },
      "source": [
        "hello()"
      ],
      "execution_count": null,
      "outputs": [
        {
          "output_type": "error",
          "ename": "NameError",
          "evalue": "name 'hello' is not defined",
          "traceback": [
            "\u001b[1;31m---------------------------------------------------------------------------\u001b[0m",
            "\u001b[1;31mNameError\u001b[0m                                 Traceback (most recent call last)",
            "\u001b[1;32m<ipython-input-9-a75d7781aaeb>\u001b[0m in \u001b[0;36m<module>\u001b[1;34m()\u001b[0m\n\u001b[1;32m----> 1\u001b[1;33m \u001b[0mhello\u001b[0m\u001b[1;33m(\u001b[0m\u001b[1;33m)\u001b[0m\u001b[1;33m\u001b[0m\u001b[0m\n\u001b[0m",
            "\u001b[1;31mNameError\u001b[0m: name 'hello' is not defined"
          ]
        }
      ]
    },
    {
      "cell_type": "code",
      "metadata": {
        "id": "i8WAtIX9AU1C",
        "outputId": "965b6aef-74c8-4899-d03f-7da7c106993e"
      },
      "source": [
        "greet()"
      ],
      "execution_count": null,
      "outputs": [
        {
          "output_type": "execute_result",
          "data": {
            "text/plain": [
              "'Hello Jose'"
            ]
          },
          "metadata": {
            "tags": []
          },
          "execution_count": 10
        }
      ]
    },
    {
      "cell_type": "markdown",
      "metadata": {
        "id": "Tui6pXinAU1C"
      },
      "source": [
        "Even though we deleted the name **hello**, the name **greet** *still points to* our original function object. It is important to know that functions are objects that can be passed to other objects!"
      ]
    },
    {
      "cell_type": "markdown",
      "metadata": {
        "id": "eO7rIKrzAU1D"
      },
      "source": [
        "## Functions within functions\n",
        "Great! So we've seen how we can treat functions as objects, now let's see how we can define functions inside of other functions:"
      ]
    },
    {
      "cell_type": "code",
      "metadata": {
        "collapsed": true,
        "id": "y-U2xRBjAU1D"
      },
      "source": [
        "def hello(name='Jose'):\n",
        "    print('The hello() function has been executed')\n",
        "    \n",
        "    def greet():\n",
        "        return '\\t This is inside the greet() function'\n",
        "    \n",
        "    def welcome():\n",
        "        return \"\\t This is inside the welcome() function\"\n",
        "    \n",
        "    print(greet())\n",
        "    print(welcome())\n",
        "    print(\"Now we are back inside the hello() function\")"
      ],
      "execution_count": null,
      "outputs": []
    },
    {
      "cell_type": "code",
      "metadata": {
        "id": "5f0dOiA6AU1E",
        "outputId": "d7d25fa8-172b-46c5-9c2a-8c3ad0b92ce5"
      },
      "source": [
        "hello()"
      ],
      "execution_count": null,
      "outputs": [
        {
          "output_type": "stream",
          "text": [
            "The hello() function has been executed\n",
            "\t This is inside the greet() function\n",
            "\t This is inside the welcome() function\n",
            "Now we are back inside the hello() function\n"
          ],
          "name": "stdout"
        }
      ]
    },
    {
      "cell_type": "code",
      "metadata": {
        "id": "lD1BTxb9AU1E",
        "outputId": "c3c3edf2-63e9-4383-e3b2-d00d6b4e97a4"
      },
      "source": [
        "welcome()"
      ],
      "execution_count": null,
      "outputs": [
        {
          "output_type": "error",
          "ename": "NameError",
          "evalue": "name 'welcome' is not defined",
          "traceback": [
            "\u001b[1;31m---------------------------------------------------------------------------\u001b[0m",
            "\u001b[1;31mNameError\u001b[0m                                 Traceback (most recent call last)",
            "\u001b[1;32m<ipython-input-13-a401d7101853>\u001b[0m in \u001b[0;36m<module>\u001b[1;34m()\u001b[0m\n\u001b[1;32m----> 1\u001b[1;33m \u001b[0mwelcome\u001b[0m\u001b[1;33m(\u001b[0m\u001b[1;33m)\u001b[0m\u001b[1;33m\u001b[0m\u001b[0m\n\u001b[0m",
            "\u001b[1;31mNameError\u001b[0m: name 'welcome' is not defined"
          ]
        }
      ]
    },
    {
      "cell_type": "markdown",
      "metadata": {
        "id": "kDQscyA0AU1F"
      },
      "source": [
        "Note how due to scope, the welcome() function is not defined outside of the hello() function. Now lets learn about returning functions from within functions:\n",
        "## Returning Functions"
      ]
    },
    {
      "cell_type": "code",
      "metadata": {
        "collapsed": true,
        "id": "bk8v3fDCAU1G"
      },
      "source": [
        "def hello(name='Jose'):\n",
        "    \n",
        "    def greet():\n",
        "        return '\\t This is inside the greet() function'\n",
        "    \n",
        "    def welcome():\n",
        "        return \"\\t This is inside the welcome() function\"\n",
        "    \n",
        "    if name == 'Jose':\n",
        "        return greet\n",
        "    else:\n",
        "        return welcome"
      ],
      "execution_count": null,
      "outputs": []
    },
    {
      "cell_type": "markdown",
      "metadata": {
        "id": "ppGbUW2CAU1H"
      },
      "source": [
        "Now let's see what function is returned if we set x = hello(), note how the empty parentheses means that name has been defined as Jose."
      ]
    },
    {
      "cell_type": "code",
      "metadata": {
        "collapsed": true,
        "id": "08fKz7_PAU1H"
      },
      "source": [
        "x = hello()"
      ],
      "execution_count": null,
      "outputs": []
    },
    {
      "cell_type": "code",
      "metadata": {
        "id": "yzA2nBvrAU1I",
        "outputId": "35c8dc2d-6f42-4611-b393-5dbd71d280bf"
      },
      "source": [
        "x"
      ],
      "execution_count": null,
      "outputs": [
        {
          "output_type": "execute_result",
          "data": {
            "text/plain": [
              "<function __main__.hello.<locals>.greet>"
            ]
          },
          "metadata": {
            "tags": []
          },
          "execution_count": 16
        }
      ]
    },
    {
      "cell_type": "markdown",
      "metadata": {
        "id": "TeWyXfSTAU1J"
      },
      "source": [
        "Great! Now we can see how x is pointing to the greet function inside of the hello function."
      ]
    },
    {
      "cell_type": "code",
      "metadata": {
        "id": "NMMI3D6XAU1J",
        "outputId": "4edced6f-2c1a-48a7-d7a3-245bf5c428ee"
      },
      "source": [
        "print(x())"
      ],
      "execution_count": null,
      "outputs": [
        {
          "output_type": "stream",
          "text": [
            "\t This is inside the greet() function\n"
          ],
          "name": "stdout"
        }
      ]
    },
    {
      "cell_type": "markdown",
      "metadata": {
        "id": "KFNMT5H7AU1K"
      },
      "source": [
        "Let's take a quick look at the code again. \n",
        "\n",
        "In the <code>if</code>/<code>else</code> clause we are returning <code>greet</code> and <code>welcome</code>, not <code>greet()</code> and <code>welcome()</code>. \n",
        "\n",
        "This is because when you put a pair of parentheses after it, the function gets executed; whereas if you don’t put parentheses after it, then it can be passed around and can be assigned to other variables without executing it.\n",
        "\n",
        "When we write <code>x = hello()</code>, hello() gets executed and because the name is Jose by default, the function <code>greet</code> is returned. If we change the statement to <code>x = hello(name = \"Sam\")</code> then the <code>welcome</code> function will be returned. We can also do <code>print(hello()())</code> which outputs *This is inside the greet() function*."
      ]
    },
    {
      "cell_type": "markdown",
      "metadata": {
        "id": "FpNu5zwgAU1L"
      },
      "source": [
        "## Functions as Arguments\n",
        "Now let's see how we can pass functions as arguments into other functions:"
      ]
    },
    {
      "cell_type": "code",
      "metadata": {
        "collapsed": true,
        "id": "LeoKgcaQAU1M"
      },
      "source": [
        "def hello():\n",
        "    return 'Hi Jose!'\n",
        "\n",
        "def other(func):\n",
        "    print('Other code would go here')\n",
        "    print(func())"
      ],
      "execution_count": null,
      "outputs": []
    },
    {
      "cell_type": "code",
      "metadata": {
        "id": "eXYjCU7cAU1M",
        "outputId": "64f283d7-b5b7-49dc-f724-7ed07f934774"
      },
      "source": [
        "other(hello)"
      ],
      "execution_count": null,
      "outputs": [
        {
          "output_type": "stream",
          "text": [
            "Other code would go here\n",
            "Hi Jose!\n"
          ],
          "name": "stdout"
        }
      ]
    },
    {
      "cell_type": "markdown",
      "metadata": {
        "id": "hdWMfTvfAU1N"
      },
      "source": [
        "Great! Note how we can pass the functions as objects and then use them within other functions. Now we can get started with writing our first decorator:"
      ]
    },
    {
      "cell_type": "markdown",
      "metadata": {
        "id": "N8a99nbOAU1O"
      },
      "source": [
        "## Creating a Decorator\n",
        "In the previous example we actually manually created a Decorator. Here we will modify it to make its use case clear:"
      ]
    },
    {
      "cell_type": "code",
      "metadata": {
        "collapsed": true,
        "id": "CWJ0nnV0AU1O"
      },
      "source": [
        "def new_decorator(func):\n",
        "\n",
        "    def wrap_func():\n",
        "        print(\"Code would be here, before executing the func\")\n",
        "\n",
        "        func()\n",
        "\n",
        "        print(\"Code here will execute after the func()\")\n",
        "\n",
        "    return wrap_func\n",
        "\n",
        "def func_needs_decorator():\n",
        "    print(\"This function is in need of a Decorator\")"
      ],
      "execution_count": null,
      "outputs": []
    },
    {
      "cell_type": "code",
      "metadata": {
        "id": "igUR6s63AU1P",
        "outputId": "b04fc6e2-759d-47a9-dd2c-b9e354076446"
      },
      "source": [
        "func_needs_decorator()"
      ],
      "execution_count": null,
      "outputs": [
        {
          "output_type": "stream",
          "text": [
            "This function is in need of a Decorator\n"
          ],
          "name": "stdout"
        }
      ]
    },
    {
      "cell_type": "code",
      "metadata": {
        "collapsed": true,
        "id": "vjpGZcuoAU1Q"
      },
      "source": [
        "# Reassign func_needs_decorator\n",
        "func_needs_decorator = new_decorator(func_needs_decorator)"
      ],
      "execution_count": null,
      "outputs": []
    },
    {
      "cell_type": "code",
      "metadata": {
        "id": "D8Ulc140AU1Q",
        "outputId": "0820cba1-fd9e-44f6-838a-a70b31b3e90a"
      },
      "source": [
        "func_needs_decorator()"
      ],
      "execution_count": null,
      "outputs": [
        {
          "output_type": "stream",
          "text": [
            "Code would be here, before executing the func\n",
            "This function is in need of a Decorator\n",
            "Code here will execute after the func()\n"
          ],
          "name": "stdout"
        }
      ]
    },
    {
      "cell_type": "markdown",
      "metadata": {
        "id": "s7YIXVqaAU1S"
      },
      "source": [
        "So what just happened here? A decorator simply wrapped the function and modified its behavior. Now let's understand how we can rewrite this code using the @ symbol, which is what Python uses for Decorators:"
      ]
    },
    {
      "cell_type": "code",
      "metadata": {
        "collapsed": true,
        "id": "LSsyH2p4AU1S"
      },
      "source": [
        "@new_decorator\n",
        "def func_needs_decorator():\n",
        "    print(\"This function is in need of a Decorator\")"
      ],
      "execution_count": null,
      "outputs": []
    },
    {
      "cell_type": "code",
      "metadata": {
        "id": "gbiPmQtbAU1T",
        "outputId": "1256a244-bea9-467e-b5a4-d5d4c0c2056f"
      },
      "source": [
        "func_needs_decorator()"
      ],
      "execution_count": null,
      "outputs": [
        {
          "output_type": "stream",
          "text": [
            "Code would be here, before executing the func\n",
            "This function is in need of a Decorator\n",
            "Code here will execute after the func()\n"
          ],
          "name": "stdout"
        }
      ]
    },
    {
      "cell_type": "markdown",
      "metadata": {
        "id": "d1aQSyWsAU1T"
      },
      "source": [
        "**Great! You've now built a Decorator manually and then saw how we can use the @ symbol in Python to automate this and clean our code. You'll run into Decorators a lot if you begin using Python for Web Development, such as Flask or Django!**"
      ]
    }
  ]
}