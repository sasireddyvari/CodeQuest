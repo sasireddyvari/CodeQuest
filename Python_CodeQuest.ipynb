{
  "nbformat": 4,
  "nbformat_minor": 0,
  "metadata": {
    "colab": {
      "name": "Python_CodeQuest",
      "provenance": [],
      "collapsed_sections": [],
      "toc_visible": true,
      "mount_file_id": "1HGKwi7fGKo0-J66_ATill9bmEQTZ5gvw",
      "authorship_tag": "ABX9TyMlzslXTHETJYeNr+v3ELIh",
      "include_colab_link": true
    },
    "kernelspec": {
      "name": "python3",
      "display_name": "Python 3"
    }
  },
  "cells": [
    {
      "cell_type": "markdown",
      "metadata": {
        "id": "view-in-github",
        "colab_type": "text"
      },
      "source": [
        "<a href=\"https://colab.research.google.com/github/sasireddyvari/CodeQuest/blob/master/Python_CodeQuest.ipynb\" target=\"_parent\"><img src=\"https://colab.research.google.com/assets/colab-badge.svg\" alt=\"Open In Colab\"/></a>"
      ]
    },
    {
      "cell_type": "markdown",
      "metadata": {
        "id": "cF6rAR2Wr7k8"
      },
      "source": [
        "**Running Python**\r\n",
        "\r\n",
        "- Command Line(Setting path in Environment Variables)\r\n",
        "- Jupyter\r\n",
        "- Pycharm\r\n",
        "- Google Colab"
      ]
    },
    {
      "cell_type": "code",
      "metadata": {
        "id": "EXEPgtcIruGX",
        "colab": {
          "base_uri": "https://localhost:8080/"
        },
        "outputId": "0c17b74f-c74b-4ffa-cca4-65bbac36c4be"
      },
      "source": [
        "#sqrt\r\n",
        "2**0.5"
      ],
      "execution_count": null,
      "outputs": [
        {
          "output_type": "execute_result",
          "data": {
            "text/plain": [
              "1.4142135623730951"
            ]
          },
          "metadata": {
            "tags": []
          },
          "execution_count": 1
        }
      ]
    },
    {
      "cell_type": "code",
      "metadata": {
        "colab": {
          "base_uri": "https://localhost:8080/"
        },
        "id": "WvlvmRpIHWUu",
        "outputId": "9af5ba37-ddc7-4b04-ab54-cb038a164de3"
      },
      "source": [
        "-11//4 # since 4 * -3 shoul be less than -11. hence -12"
      ],
      "execution_count": null,
      "outputs": [
        {
          "output_type": "execute_result",
          "data": {
            "text/plain": [
              "-3"
            ]
          },
          "metadata": {
            "tags": []
          },
          "execution_count": 2
        }
      ]
    },
    {
      "cell_type": "code",
      "metadata": {
        "id": "cPWKC9laHbJr"
      },
      "source": [
        "l=[2,5,1]"
      ],
      "execution_count": null,
      "outputs": []
    },
    {
      "cell_type": "code",
      "metadata": {
        "colab": {
          "base_uri": "https://localhost:8080/"
        },
        "id": "eMK-QWGNUY24",
        "outputId": "05ce45b2-d070-42c3-8a13-ddbc065f05e9"
      },
      "source": [
        "l.reverse()\r\n",
        "l"
      ],
      "execution_count": null,
      "outputs": [
        {
          "output_type": "execute_result",
          "data": {
            "text/plain": [
              "[1, 5, 2]"
            ]
          },
          "metadata": {
            "tags": []
          },
          "execution_count": 6
        }
      ]
    },
    {
      "cell_type": "code",
      "metadata": {
        "id": "D8nN-ZpJUuMn"
      },
      "source": [
        "l1=[2,5,1]\r\n",
        "l2=[3,4,1]\r\n",
        "l3=[4,1,3]"
      ],
      "execution_count": null,
      "outputs": []
    },
    {
      "cell_type": "code",
      "metadata": {
        "id": "FIFiB4VSVGmO"
      },
      "source": [
        "m=[l1,l2,l3]"
      ],
      "execution_count": null,
      "outputs": []
    },
    {
      "cell_type": "code",
      "metadata": {
        "colab": {
          "base_uri": "https://localhost:8080/"
        },
        "id": "qLY-5STgXVsi",
        "outputId": "aaca78ae-1d47-4a23-8121-48cc361206b9"
      },
      "source": [
        "m"
      ],
      "execution_count": null,
      "outputs": [
        {
          "output_type": "execute_result",
          "data": {
            "text/plain": [
              "[[2, 5, 1], [3, 4, 1], [4, 1, 3]]"
            ]
          },
          "metadata": {
            "tags": []
          },
          "execution_count": 24
        }
      ]
    },
    {
      "cell_type": "code",
      "metadata": {
        "colab": {
          "base_uri": "https://localhost:8080/"
        },
        "id": "TjOrIsINXWbO",
        "outputId": "e78d2b23-b3be-4904-9e6e-fa1437b4d37b"
      },
      "source": [
        "first_row=[row[0] for row in m]\r\n",
        "first_row"
      ],
      "execution_count": null,
      "outputs": [
        {
          "output_type": "execute_result",
          "data": {
            "text/plain": [
              "[2, 3, 4]"
            ]
          },
          "metadata": {
            "tags": []
          },
          "execution_count": 27
        }
      ]
    },
    {
      "cell_type": "code",
      "metadata": {
        "colab": {
          "base_uri": "https://localhost:8080/"
        },
        "id": "w010gwzSXhG1",
        "outputId": "c412f35a-a624-459e-9b60-74ef7281572e"
      },
      "source": [
        "m[0]"
      ],
      "execution_count": null,
      "outputs": [
        {
          "output_type": "execute_result",
          "data": {
            "text/plain": [
              "[2, 5, 1]"
            ]
          },
          "metadata": {
            "tags": []
          },
          "execution_count": 26
        }
      ]
    },
    {
      "cell_type": "code",
      "metadata": {
        "id": "4uKliB3BYpNO"
      },
      "source": [
        "None"
      ],
      "execution_count": 1,
      "outputs": []
    },
    {
      "cell_type": "code",
      "metadata": {
        "id": "gwgnK9cXDAUU"
      },
      "source": [
        "b=None"
      ],
      "execution_count": 2,
      "outputs": []
    },
    {
      "cell_type": "markdown",
      "metadata": {
        "id": "iZ172rWhDEGj"
      },
      "source": [
        "# Files"
      ]
    },
    {
      "cell_type": "code",
      "metadata": {
        "id": "PWNg5NY9DBWt"
      },
      "source": [
        "myfile=open('/content/drive/MyDrive/Colab Notebooks/Note.txt')"
      ],
      "execution_count": 7,
      "outputs": []
    },
    {
      "cell_type": "code",
      "metadata": {
        "colab": {
          "base_uri": "https://localhost:8080/",
          "height": 35
        },
        "id": "C-mMgAJGDT-f",
        "outputId": "99b7a7ab-9c0f-46df-bb8f-4dd3d91e03cd"
      },
      "source": [
        "myfile.read()"
      ],
      "execution_count": 8,
      "outputs": [
        {
          "output_type": "execute_result",
          "data": {
            "application/vnd.google.colaboratory.intrinsic+json": {
              "type": "string"
            },
            "text/plain": [
              "'Frameworks & Libraries\\n'"
            ]
          },
          "metadata": {
            "tags": []
          },
          "execution_count": 8
        }
      ]
    },
    {
      "cell_type": "code",
      "metadata": {
        "colab": {
          "base_uri": "https://localhost:8080/",
          "height": 35
        },
        "id": "aDrhz6ZADXCO",
        "outputId": "5c96f491-6ad7-4bfc-d008-bc85c3c70c00"
      },
      "source": [
        "myfile.read()"
      ],
      "execution_count": 5,
      "outputs": [
        {
          "output_type": "execute_result",
          "data": {
            "application/vnd.google.colaboratory.intrinsic+json": {
              "type": "string"
            },
            "text/plain": [
              "''"
            ]
          },
          "metadata": {
            "tags": []
          },
          "execution_count": 5
        }
      ]
    },
    {
      "cell_type": "code",
      "metadata": {
        "colab": {
          "base_uri": "https://localhost:8080/"
        },
        "id": "neToy6kvDotT",
        "outputId": "d37a23a4-ec05-43fc-9d4b-d9eb7c3a07ab"
      },
      "source": [
        "myfile.seek(0)"
      ],
      "execution_count": 16,
      "outputs": [
        {
          "output_type": "execute_result",
          "data": {
            "text/plain": [
              "0"
            ]
          },
          "metadata": {
            "tags": []
          },
          "execution_count": 16
        }
      ]
    },
    {
      "cell_type": "code",
      "metadata": {
        "colab": {
          "base_uri": "https://localhost:8080/",
          "height": 35
        },
        "id": "9ujWjo47D9g6",
        "outputId": "0d218910-367a-4a9e-a43f-c961f1fd2379"
      },
      "source": [
        "myfile.readline()"
      ],
      "execution_count": 17,
      "outputs": [
        {
          "output_type": "execute_result",
          "data": {
            "application/vnd.google.colaboratory.intrinsic+json": {
              "type": "string"
            },
            "text/plain": [
              "'Frameworks & Libraries\\n'"
            ]
          },
          "metadata": {
            "tags": []
          },
          "execution_count": 17
        }
      ]
    },
    {
      "cell_type": "code",
      "metadata": {
        "colab": {
          "base_uri": "https://localhost:8080/",
          "height": 35
        },
        "id": "AxQHJNuMDu1x",
        "outputId": "1324b28e-1ae6-4fc7-a559-66e5a2e1d2d5"
      },
      "source": [
        "myfile.read()"
      ],
      "execution_count": 15,
      "outputs": [
        {
          "output_type": "execute_result",
          "data": {
            "application/vnd.google.colaboratory.intrinsic+json": {
              "type": "string"
            },
            "text/plain": [
              "'Frameworks & Libraries\\n'"
            ]
          },
          "metadata": {
            "tags": []
          },
          "execution_count": 15
        }
      ]
    },
    {
      "cell_type": "code",
      "metadata": {
        "id": "B4i93dDnDiQp"
      },
      "source": [
        "myfile.close()"
      ],
      "execution_count": 6,
      "outputs": []
    },
    {
      "cell_type": "code",
      "metadata": {
        "id": "iJYry_sLD66a"
      },
      "source": [
        "myfile=open('/content/drive/MyDrive/Colab Notebooks/Note.txt','w+') # deletes the existing"
      ],
      "execution_count": 18,
      "outputs": []
    },
    {
      "cell_type": "code",
      "metadata": {
        "colab": {
          "base_uri": "https://localhost:8080/"
        },
        "id": "l6HHYw3dEOSu",
        "outputId": "c670a60a-c40e-4216-95bc-fc9f914d0730"
      },
      "source": [
        "myfile.write('''This is a writing mode open \r\n",
        "Adding a line''')"
      ],
      "execution_count": 19,
      "outputs": [
        {
          "output_type": "execute_result",
          "data": {
            "text/plain": [
              "42"
            ]
          },
          "metadata": {
            "tags": []
          },
          "execution_count": 19
        }
      ]
    },
    {
      "cell_type": "code",
      "metadata": {
        "colab": {
          "base_uri": "https://localhost:8080/",
          "height": 35
        },
        "id": "Hkl1_BR3EpKx",
        "outputId": "856802bb-c14f-4743-eb9b-ee480bddb760"
      },
      "source": [
        "myfile.readline()"
      ],
      "execution_count": 20,
      "outputs": [
        {
          "output_type": "execute_result",
          "data": {
            "application/vnd.google.colaboratory.intrinsic+json": {
              "type": "string"
            },
            "text/plain": [
              "''"
            ]
          },
          "metadata": {
            "tags": []
          },
          "execution_count": 20
        }
      ]
    },
    {
      "cell_type": "code",
      "metadata": {
        "colab": {
          "base_uri": "https://localhost:8080/"
        },
        "id": "EhfuSaWMErps",
        "outputId": "b5de6b15-64d8-466e-dc2e-bfc481b77960"
      },
      "source": [
        "myfile.seek(0)"
      ],
      "execution_count": 24,
      "outputs": [
        {
          "output_type": "execute_result",
          "data": {
            "text/plain": [
              "0"
            ]
          },
          "metadata": {
            "tags": []
          },
          "execution_count": 24
        }
      ]
    },
    {
      "cell_type": "code",
      "metadata": {
        "colab": {
          "base_uri": "https://localhost:8080/",
          "height": 35
        },
        "id": "5CZKwoe9Eu1f",
        "outputId": "1c8e5ab1-3cd5-475b-af60-97290f36fe56"
      },
      "source": [
        "myfile.readline()"
      ],
      "execution_count": 22,
      "outputs": [
        {
          "output_type": "execute_result",
          "data": {
            "application/vnd.google.colaboratory.intrinsic+json": {
              "type": "string"
            },
            "text/plain": [
              "'This is a writing mode open \\n'"
            ]
          },
          "metadata": {
            "tags": []
          },
          "execution_count": 22
        }
      ]
    },
    {
      "cell_type": "code",
      "metadata": {
        "colab": {
          "base_uri": "https://localhost:8080/"
        },
        "id": "bNffGWNWE2LX",
        "outputId": "f49c75b2-db56-4553-9324-120fe9a30f0f"
      },
      "source": [
        "myfile.seek(0)"
      ],
      "execution_count": 26,
      "outputs": [
        {
          "output_type": "execute_result",
          "data": {
            "text/plain": [
              "0"
            ]
          },
          "metadata": {
            "tags": []
          },
          "execution_count": 26
        }
      ]
    },
    {
      "cell_type": "code",
      "metadata": {
        "colab": {
          "base_uri": "https://localhost:8080/",
          "height": 35
        },
        "id": "g2bvXm32ExNV",
        "outputId": "b693aacf-31ee-4496-83ea-b91d00d56eb1"
      },
      "source": [
        "myfile.read()"
      ],
      "execution_count": 25,
      "outputs": [
        {
          "output_type": "execute_result",
          "data": {
            "application/vnd.google.colaboratory.intrinsic+json": {
              "type": "string"
            },
            "text/plain": [
              "'This is a writing mode open \\nAdding a line'"
            ]
          },
          "metadata": {
            "tags": []
          },
          "execution_count": 25
        }
      ]
    },
    {
      "cell_type": "code",
      "metadata": {
        "id": "vujqvzwDEzo9"
      },
      "source": [
        "myfile.close()"
      ],
      "execution_count": 27,
      "outputs": []
    },
    {
      "cell_type": "code",
      "metadata": {
        "id": "-VamKoDhFIbl"
      },
      "source": [
        "# It will automatically close\r\n",
        "with open('/content/drive/MyDrive/Colab Notebooks/Note.txt','a+') as myfile:\r\n",
        "  myfile.seek(0)\r\n",
        "  lines=myfile.read()"
      ],
      "execution_count": 28,
      "outputs": []
    },
    {
      "cell_type": "code",
      "metadata": {
        "colab": {
          "base_uri": "https://localhost:8080/",
          "height": 35
        },
        "id": "pb4lTlPGFdrk",
        "outputId": "bef8aa51-f6ea-4a97-f07c-abe419e1f8e4"
      },
      "source": [
        "lines"
      ],
      "execution_count": 29,
      "outputs": [
        {
          "output_type": "execute_result",
          "data": {
            "application/vnd.google.colaboratory.intrinsic+json": {
              "type": "string"
            },
            "text/plain": [
              "'This is a writing mode open \\nAdding a line'"
            ]
          },
          "metadata": {
            "tags": []
          },
          "execution_count": 29
        }
      ]
    },
    {
      "cell_type": "code",
      "metadata": {
        "id": "naunsKD4FeeQ"
      },
      "source": [
        ""
      ],
      "execution_count": null,
      "outputs": []
    }
  ]
}