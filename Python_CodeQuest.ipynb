{
  "nbformat": 4,
  "nbformat_minor": 0,
  "metadata": {
    "colab": {
      "name": "Python_CodeQuest",
      "provenance": [],
      "collapsed_sections": [],
      "mount_file_id": "1HGKwi7fGKo0-J66_ATill9bmEQTZ5gvw",
      "authorship_tag": "ABX9TyPrS8PtipaeENRGxfmKlM9F",
      "include_colab_link": true
    },
    "kernelspec": {
      "name": "python3",
      "display_name": "Python 3"
    }
  },
  "cells": [
    {
      "cell_type": "markdown",
      "metadata": {
        "id": "view-in-github",
        "colab_type": "text"
      },
      "source": [
        "<a href=\"https://colab.research.google.com/github/sasireddyvari/CodeQuest_Python/blob/master/Python_CodeQuest.ipynb\" target=\"_parent\"><img src=\"https://colab.research.google.com/assets/colab-badge.svg\" alt=\"Open In Colab\"/></a>"
      ]
    },
    {
      "cell_type": "markdown",
      "metadata": {
        "id": "cF6rAR2Wr7k8"
      },
      "source": [
        "**Running Python**\r\n",
        "\r\n",
        "- Command Line(Setting path in Environment Variables)\r\n",
        "- Jupyter\r\n",
        "- Pycharm\r\n",
        "- Google Colab"
      ]
    },
    {
      "cell_type": "code",
      "metadata": {
        "id": "EXEPgtcIruGX",
        "colab": {
          "base_uri": "https://localhost:8080/"
        },
        "outputId": "038da3f9-a398-487c-bf79-af8ccc8b4a69"
      },
      "source": [
        "#sqrt\r\n",
        "2**0.5"
      ],
      "execution_count": null,
      "outputs": [
        {
          "output_type": "execute_result",
          "data": {
            "text/plain": [
              "1.4142135623730951"
            ]
          },
          "metadata": {
            "tags": []
          },
          "execution_count": 1
        }
      ]
    },
    {
      "cell_type": "code",
      "metadata": {
        "colab": {
          "base_uri": "https://localhost:8080/"
        },
        "id": "WvlvmRpIHWUu",
        "outputId": "ce7ea1fd-1809-463c-f38b-80b5f63c0201"
      },
      "source": [
        "-11//4 # since 4 * -3 shoul be less than -11. hence -12"
      ],
      "execution_count": null,
      "outputs": [
        {
          "output_type": "execute_result",
          "data": {
            "text/plain": [
              "-3"
            ]
          },
          "metadata": {
            "tags": []
          },
          "execution_count": 2
        }
      ]
    },
    {
      "cell_type": "code",
      "metadata": {
        "id": "cPWKC9laHbJr"
      },
      "source": [
        "l=[2,5,1]"
      ],
      "execution_count": null,
      "outputs": []
    },
    {
      "cell_type": "code",
      "metadata": {
        "colab": {
          "base_uri": "https://localhost:8080/"
        },
        "id": "eMK-QWGNUY24",
        "outputId": "42a0a7ab-047e-4c3c-c378-18137910ef37"
      },
      "source": [
        "l.reverse()\r\n",
        "l"
      ],
      "execution_count": null,
      "outputs": [
        {
          "output_type": "execute_result",
          "data": {
            "text/plain": [
              "[1, 5, 2]"
            ]
          },
          "metadata": {
            "tags": []
          },
          "execution_count": 4
        }
      ]
    },
    {
      "cell_type": "code",
      "metadata": {
        "id": "D8nN-ZpJUuMn"
      },
      "source": [
        "l1=[2,5,1]\r\n",
        "l2=[3,4,1]\r\n",
        "l3=[4,1,3]"
      ],
      "execution_count": null,
      "outputs": []
    },
    {
      "cell_type": "code",
      "metadata": {
        "id": "FIFiB4VSVGmO"
      },
      "source": [
        "m=[l1,l2,l3]"
      ],
      "execution_count": null,
      "outputs": []
    },
    {
      "cell_type": "code",
      "metadata": {
        "colab": {
          "base_uri": "https://localhost:8080/"
        },
        "id": "qLY-5STgXVsi",
        "outputId": "164f2777-2f7b-4192-e156-2b06d22ad491"
      },
      "source": [
        "m"
      ],
      "execution_count": null,
      "outputs": [
        {
          "output_type": "execute_result",
          "data": {
            "text/plain": [
              "[[2, 5, 1], [3, 4, 1], [4, 1, 3]]"
            ]
          },
          "metadata": {
            "tags": []
          },
          "execution_count": 7
        }
      ]
    },
    {
      "cell_type": "code",
      "metadata": {
        "colab": {
          "base_uri": "https://localhost:8080/"
        },
        "id": "TjOrIsINXWbO",
        "outputId": "c443bfd3-a68b-45d6-9668-551ff437c1cc"
      },
      "source": [
        "first_row=[row[0] for row in m]\r\n",
        "first_row"
      ],
      "execution_count": null,
      "outputs": [
        {
          "output_type": "execute_result",
          "data": {
            "text/plain": [
              "[2, 3, 4]"
            ]
          },
          "metadata": {
            "tags": []
          },
          "execution_count": 8
        }
      ]
    },
    {
      "cell_type": "code",
      "metadata": {
        "colab": {
          "base_uri": "https://localhost:8080/"
        },
        "id": "w010gwzSXhG1",
        "outputId": "ebac540c-5fa3-40e0-86a1-774e5b5179d0"
      },
      "source": [
        "m[0]"
      ],
      "execution_count": null,
      "outputs": [
        {
          "output_type": "execute_result",
          "data": {
            "text/plain": [
              "[2, 5, 1]"
            ]
          },
          "metadata": {
            "tags": []
          },
          "execution_count": 9
        }
      ]
    },
    {
      "cell_type": "code",
      "metadata": {
        "id": "4uKliB3BYpNO"
      },
      "source": [
        "None"
      ],
      "execution_count": null,
      "outputs": []
    },
    {
      "cell_type": "code",
      "metadata": {
        "id": "gwgnK9cXDAUU"
      },
      "source": [
        "b=None"
      ],
      "execution_count": null,
      "outputs": []
    },
    {
      "cell_type": "markdown",
      "metadata": {
        "id": "iZ172rWhDEGj"
      },
      "source": [
        "# Files"
      ]
    },
    {
      "cell_type": "code",
      "metadata": {
        "id": "PWNg5NY9DBWt"
      },
      "source": [
        "myfile=open('/content/drive/MyDrive/Colab Notebooks/Note.txt')"
      ],
      "execution_count": null,
      "outputs": []
    },
    {
      "cell_type": "code",
      "metadata": {
        "colab": {
          "base_uri": "https://localhost:8080/",
          "height": 35
        },
        "id": "C-mMgAJGDT-f",
        "outputId": "c7a564ec-f54c-4fd5-e04d-e9828e227c16"
      },
      "source": [
        "myfile.read()"
      ],
      "execution_count": null,
      "outputs": [
        {
          "output_type": "execute_result",
          "data": {
            "application/vnd.google.colaboratory.intrinsic+json": {
              "type": "string"
            },
            "text/plain": [
              "'This is a writing mode open \\nAdding a line'"
            ]
          },
          "metadata": {
            "tags": []
          },
          "execution_count": 13
        }
      ]
    },
    {
      "cell_type": "code",
      "metadata": {
        "colab": {
          "base_uri": "https://localhost:8080/",
          "height": 35
        },
        "id": "aDrhz6ZADXCO",
        "outputId": "f56f9dbf-856f-42ee-9e16-616d6785eb3a"
      },
      "source": [
        "myfile.read()"
      ],
      "execution_count": null,
      "outputs": [
        {
          "output_type": "execute_result",
          "data": {
            "application/vnd.google.colaboratory.intrinsic+json": {
              "type": "string"
            },
            "text/plain": [
              "''"
            ]
          },
          "metadata": {
            "tags": []
          },
          "execution_count": 14
        }
      ]
    },
    {
      "cell_type": "code",
      "metadata": {
        "colab": {
          "base_uri": "https://localhost:8080/"
        },
        "id": "neToy6kvDotT",
        "outputId": "4ad001a1-cc65-42e8-d719-b058d18b2ba5"
      },
      "source": [
        "myfile.seek(0)"
      ],
      "execution_count": null,
      "outputs": [
        {
          "output_type": "execute_result",
          "data": {
            "text/plain": [
              "0"
            ]
          },
          "metadata": {
            "tags": []
          },
          "execution_count": 15
        }
      ]
    },
    {
      "cell_type": "code",
      "metadata": {
        "colab": {
          "base_uri": "https://localhost:8080/",
          "height": 35
        },
        "id": "9ujWjo47D9g6",
        "outputId": "1916c5a1-df20-488d-cf60-e547b89fb616"
      },
      "source": [
        "myfile.readline()"
      ],
      "execution_count": null,
      "outputs": [
        {
          "output_type": "execute_result",
          "data": {
            "application/vnd.google.colaboratory.intrinsic+json": {
              "type": "string"
            },
            "text/plain": [
              "'This is a writing mode open \\n'"
            ]
          },
          "metadata": {
            "tags": []
          },
          "execution_count": 16
        }
      ]
    },
    {
      "cell_type": "code",
      "metadata": {
        "colab": {
          "base_uri": "https://localhost:8080/",
          "height": 35
        },
        "id": "AxQHJNuMDu1x",
        "outputId": "ccd8de7a-c313-4a67-ef8b-b1b0c7416bda"
      },
      "source": [
        "myfile.read()"
      ],
      "execution_count": null,
      "outputs": [
        {
          "output_type": "execute_result",
          "data": {
            "application/vnd.google.colaboratory.intrinsic+json": {
              "type": "string"
            },
            "text/plain": [
              "'Adding a line'"
            ]
          },
          "metadata": {
            "tags": []
          },
          "execution_count": 17
        }
      ]
    },
    {
      "cell_type": "code",
      "metadata": {
        "id": "B4i93dDnDiQp"
      },
      "source": [
        "myfile.close()"
      ],
      "execution_count": null,
      "outputs": []
    },
    {
      "cell_type": "code",
      "metadata": {
        "id": "iJYry_sLD66a"
      },
      "source": [
        "myfile=open('/content/drive/MyDrive/Colab Notebooks/Note.txt','w+') # deletes the existing"
      ],
      "execution_count": null,
      "outputs": []
    },
    {
      "cell_type": "code",
      "metadata": {
        "colab": {
          "base_uri": "https://localhost:8080/"
        },
        "id": "l6HHYw3dEOSu",
        "outputId": "4491ab24-3ffd-4f19-e94e-956d15e964f4"
      },
      "source": [
        "myfile.write('''This is a writing mode open \r\n",
        "Adding a line''')"
      ],
      "execution_count": null,
      "outputs": [
        {
          "output_type": "execute_result",
          "data": {
            "text/plain": [
              "42"
            ]
          },
          "metadata": {
            "tags": []
          },
          "execution_count": 20
        }
      ]
    },
    {
      "cell_type": "code",
      "metadata": {
        "colab": {
          "base_uri": "https://localhost:8080/",
          "height": 35
        },
        "id": "Hkl1_BR3EpKx",
        "outputId": "9a0d34d2-e685-426a-a838-312d634fb746"
      },
      "source": [
        "myfile.readline()"
      ],
      "execution_count": null,
      "outputs": [
        {
          "output_type": "execute_result",
          "data": {
            "application/vnd.google.colaboratory.intrinsic+json": {
              "type": "string"
            },
            "text/plain": [
              "''"
            ]
          },
          "metadata": {
            "tags": []
          },
          "execution_count": 21
        }
      ]
    },
    {
      "cell_type": "code",
      "metadata": {
        "colab": {
          "base_uri": "https://localhost:8080/"
        },
        "id": "EhfuSaWMErps",
        "outputId": "f20e6b87-e4d9-4196-9eec-16d7189efea0"
      },
      "source": [
        "myfile.seek(0)"
      ],
      "execution_count": null,
      "outputs": [
        {
          "output_type": "execute_result",
          "data": {
            "text/plain": [
              "0"
            ]
          },
          "metadata": {
            "tags": []
          },
          "execution_count": 22
        }
      ]
    },
    {
      "cell_type": "code",
      "metadata": {
        "colab": {
          "base_uri": "https://localhost:8080/",
          "height": 35
        },
        "id": "5CZKwoe9Eu1f",
        "outputId": "79cbc6f6-a3c3-48f1-9920-e741d4eb01b3"
      },
      "source": [
        "myfile.readline()"
      ],
      "execution_count": null,
      "outputs": [
        {
          "output_type": "execute_result",
          "data": {
            "application/vnd.google.colaboratory.intrinsic+json": {
              "type": "string"
            },
            "text/plain": [
              "'This is a writing mode open \\n'"
            ]
          },
          "metadata": {
            "tags": []
          },
          "execution_count": 23
        }
      ]
    },
    {
      "cell_type": "code",
      "metadata": {
        "colab": {
          "base_uri": "https://localhost:8080/"
        },
        "id": "bNffGWNWE2LX",
        "outputId": "1ec14745-7662-49c6-f0d4-866222e4abe2"
      },
      "source": [
        "myfile.seek(0)"
      ],
      "execution_count": null,
      "outputs": [
        {
          "output_type": "execute_result",
          "data": {
            "text/plain": [
              "0"
            ]
          },
          "metadata": {
            "tags": []
          },
          "execution_count": 24
        }
      ]
    },
    {
      "cell_type": "code",
      "metadata": {
        "colab": {
          "base_uri": "https://localhost:8080/",
          "height": 35
        },
        "id": "g2bvXm32ExNV",
        "outputId": "1c8fb66d-bb8c-460d-dc67-a6d86702c288"
      },
      "source": [
        "myfile.read()"
      ],
      "execution_count": null,
      "outputs": [
        {
          "output_type": "execute_result",
          "data": {
            "application/vnd.google.colaboratory.intrinsic+json": {
              "type": "string"
            },
            "text/plain": [
              "'This is a writing mode open \\nAdding a line'"
            ]
          },
          "metadata": {
            "tags": []
          },
          "execution_count": 25
        }
      ]
    },
    {
      "cell_type": "code",
      "metadata": {
        "id": "vujqvzwDEzo9"
      },
      "source": [
        "myfile.close()"
      ],
      "execution_count": null,
      "outputs": []
    },
    {
      "cell_type": "code",
      "metadata": {
        "id": "-VamKoDhFIbl"
      },
      "source": [
        "# It will automatically close\r\n",
        "with open('/content/drive/MyDrive/Colab Notebooks/Note.txt','a+') as myfile:\r\n",
        "  myfile.seek(0)\r\n",
        "  lines=myfile.read()"
      ],
      "execution_count": null,
      "outputs": []
    },
    {
      "cell_type": "code",
      "metadata": {
        "colab": {
          "base_uri": "https://localhost:8080/",
          "height": 35
        },
        "id": "pb4lTlPGFdrk",
        "outputId": "94659bcf-8880-4342-fec0-966d0a6652ca"
      },
      "source": [
        "lines"
      ],
      "execution_count": null,
      "outputs": [
        {
          "output_type": "execute_result",
          "data": {
            "application/vnd.google.colaboratory.intrinsic+json": {
              "type": "string"
            },
            "text/plain": [
              "'This is a writing mode open \\nAdding a line'"
            ]
          },
          "metadata": {
            "tags": []
          },
          "execution_count": 28
        }
      ]
    },
    {
      "cell_type": "markdown",
      "metadata": {
        "id": "73fRhUbmF5oO"
      },
      "source": [
        "# Statements"
      ]
    },
    {
      "cell_type": "code",
      "metadata": {
        "colab": {
          "base_uri": "https://localhost:8080/"
        },
        "id": "vf5j8nehF34Y",
        "outputId": "bf56c4eb-f969-4f32-863d-2e496013eaf3"
      },
      "source": [
        "name='Sasi'\r\n",
        "if name=='nitin':\r\n",
        "  print('If statement')\r\n",
        "elif name=='Sasi':\r\n",
        "  print('elif statement')\r\n",
        "else:\r\n",
        "  print('else')"
      ],
      "execution_count": null,
      "outputs": [
        {
          "output_type": "stream",
          "text": [
            "elif statement\n"
          ],
          "name": "stdout"
        }
      ]
    },
    {
      "cell_type": "markdown",
      "metadata": {
        "id": "rfp0ig_I71pf"
      },
      "source": [
        "After Continue statements, following statements will not execute the current iteration\r\n",
        "\r\n",
        "Break will stop the loop and no further iterations runs"
      ]
    },
    {
      "cell_type": "code",
      "metadata": {
        "id": "naunsKD4FeeQ",
        "colab": {
          "base_uri": "https://localhost:8080/"
        },
        "outputId": "dd72a3be-ec08-4b12-e455-12d4229469bf"
      },
      "source": [
        "list(enumerate('sasi'))"
      ],
      "execution_count": null,
      "outputs": [
        {
          "output_type": "execute_result",
          "data": {
            "text/plain": [
              "[(0, 's'), (1, 'a'), (2, 's'), (3, 'i')]"
            ]
          },
          "metadata": {
            "tags": []
          },
          "execution_count": 30
        }
      ]
    },
    {
      "cell_type": "code",
      "metadata": {
        "id": "Lg-DSPew8qig"
      },
      "source": [
        "lst=['Sasi','Ganesh','Nitin']"
      ],
      "execution_count": null,
      "outputs": []
    },
    {
      "cell_type": "code",
      "metadata": {
        "colab": {
          "base_uri": "https://localhost:8080/"
        },
        "id": "JiAiA3jR8zS-",
        "outputId": "e233fff8-9568-480d-84ef-b55f60de8f5c"
      },
      "source": [
        "list(enumerate(lst))"
      ],
      "execution_count": null,
      "outputs": [
        {
          "output_type": "execute_result",
          "data": {
            "text/plain": [
              "[(0, 'Sasi'), (1, 'Ganesh'), (2, 'Nitin')]"
            ]
          },
          "metadata": {
            "tags": []
          },
          "execution_count": 32
        }
      ]
    },
    {
      "cell_type": "code",
      "metadata": {
        "colab": {
          "base_uri": "https://localhost:8080/"
        },
        "id": "f8QbhkjV8_2r",
        "outputId": "771b7a8a-3cc6-48e0-e8f3-4024ea9bc4f6"
      },
      "source": [
        "c=[(9/5)*temp+32 for temp in [34.4,5,7.7]]\r\n",
        "c"
      ],
      "execution_count": null,
      "outputs": [
        {
          "output_type": "execute_result",
          "data": {
            "text/plain": [
              "[93.92, 41.0, 45.86]"
            ]
          },
          "metadata": {
            "tags": []
          },
          "execution_count": 33
        }
      ]
    },
    {
      "cell_type": "code",
      "metadata": {
        "colab": {
          "base_uri": "https://localhost:8080/"
        },
        "id": "LAQYuKgT9yT1",
        "outputId": "732c4f9a-e1e1-48cf-ed82-d491e677f905"
      },
      "source": [
        "c=[x**2 for x in [x**2 for x in [1,2,3,4]]]\r\n",
        "c"
      ],
      "execution_count": null,
      "outputs": [
        {
          "output_type": "execute_result",
          "data": {
            "text/plain": [
              "[1, 16, 81, 256]"
            ]
          },
          "metadata": {
            "tags": []
          },
          "execution_count": 34
        }
      ]
    },
    {
      "cell_type": "code",
      "metadata": {
        "id": "XziH3itP9801"
      },
      "source": [
        "def sqr(n):\r\n",
        "  return n**2"
      ],
      "execution_count": null,
      "outputs": []
    },
    {
      "cell_type": "code",
      "metadata": {
        "id": "-1yaTqoe_eO7"
      },
      "source": [
        "lst=[1,2,3,4,5]"
      ],
      "execution_count": null,
      "outputs": []
    },
    {
      "cell_type": "code",
      "metadata": {
        "colab": {
          "base_uri": "https://localhost:8080/"
        },
        "id": "9LIJLeHN_fmc",
        "outputId": "966b8b32-b5d8-4810-f95a-0f22d8c5d116"
      },
      "source": [
        "list(map(sqr,lst))"
      ],
      "execution_count": null,
      "outputs": [
        {
          "output_type": "execute_result",
          "data": {
            "text/plain": [
              "[1, 4, 9, 16, 25]"
            ]
          },
          "metadata": {
            "tags": []
          },
          "execution_count": 37
        }
      ]
    },
    {
      "cell_type": "markdown",
      "metadata": {
        "id": "E7jAM6YA_9mg"
      },
      "source": [
        "filter will take out all True values"
      ]
    },
    {
      "cell_type": "code",
      "metadata": {
        "id": "RXd9tfHl_g9-"
      },
      "source": [
        "def even_check(n):\r\n",
        "  return n%2==0"
      ],
      "execution_count": null,
      "outputs": []
    },
    {
      "cell_type": "code",
      "metadata": {
        "colab": {
          "base_uri": "https://localhost:8080/"
        },
        "id": "90SwWWSU_uwZ",
        "outputId": "4d952af2-f19f-43aa-e417-4f865a43ebfa"
      },
      "source": [
        "even_check(2)"
      ],
      "execution_count": null,
      "outputs": [
        {
          "output_type": "execute_result",
          "data": {
            "text/plain": [
              "True"
            ]
          },
          "metadata": {
            "tags": []
          },
          "execution_count": 39
        }
      ]
    },
    {
      "cell_type": "code",
      "metadata": {
        "colab": {
          "base_uri": "https://localhost:8080/"
        },
        "id": "STHTrGCCAMXx",
        "outputId": "3c7fe8e7-f3e5-4dcc-8ec9-c1e75899dfc2"
      },
      "source": [
        "list(filter(even_check,lst))"
      ],
      "execution_count": null,
      "outputs": [
        {
          "output_type": "execute_result",
          "data": {
            "text/plain": [
              "[2, 4]"
            ]
          },
          "metadata": {
            "tags": []
          },
          "execution_count": 40
        }
      ]
    },
    {
      "cell_type": "markdown",
      "metadata": {
        "id": "GDg-YtSXIcju"
      },
      "source": [
        "reduce"
      ]
    },
    {
      "cell_type": "code",
      "metadata": {
        "id": "9XFuklM3Ix-j"
      },
      "source": [
        "from functools import reduce"
      ],
      "execution_count": null,
      "outputs": []
    },
    {
      "cell_type": "code",
      "metadata": {
        "id": "74q1QDUkIcMH"
      },
      "source": [
        "lst=[2,3,4,5]"
      ],
      "execution_count": null,
      "outputs": []
    },
    {
      "cell_type": "code",
      "metadata": {
        "id": "RIbP3sKJIhrI"
      },
      "source": [
        "def finc_min(a,b):\r\n",
        "  return min(a,b)"
      ],
      "execution_count": null,
      "outputs": []
    },
    {
      "cell_type": "code",
      "metadata": {
        "colab": {
          "base_uri": "https://localhost:8080/"
        },
        "id": "iKn5IgrzIhoO",
        "outputId": "5521ea9d-5560-4833-a7dd-cb914846ef84"
      },
      "source": [
        "reduce(finc_min,lst)"
      ],
      "execution_count": null,
      "outputs": [
        {
          "output_type": "execute_result",
          "data": {
            "text/plain": [
              "2"
            ]
          },
          "metadata": {
            "tags": []
          },
          "execution_count": 76
        }
      ]
    },
    {
      "cell_type": "markdown",
      "metadata": {
        "id": "ibM6o6c-Aj1-"
      },
      "source": [
        "lambda input : output"
      ]
    },
    {
      "cell_type": "code",
      "metadata": {
        "id": "ncDP4JZkAi5Q"
      },
      "source": [
        "add1=lambda x,y:x+y"
      ],
      "execution_count": null,
      "outputs": []
    },
    {
      "cell_type": "code",
      "metadata": {
        "colab": {
          "base_uri": "https://localhost:8080/"
        },
        "id": "ab0n8C7ZATWi",
        "outputId": "28457e57-f667-4fd5-9947-96f1b77fc84a"
      },
      "source": [
        "add1(2,3)"
      ],
      "execution_count": null,
      "outputs": [
        {
          "output_type": "execute_result",
          "data": {
            "text/plain": [
              "5"
            ]
          },
          "metadata": {
            "tags": []
          },
          "execution_count": 42
        }
      ]
    },
    {
      "cell_type": "markdown",
      "metadata": {
        "id": "y0Lo_N9SA2a7"
      },
      "source": [
        "Scoping:\r\n",
        "legb -- Increasing order of priority of variables\r\n",
        "local, enclosing in function locals, global, builtin"
      ]
    },
    {
      "cell_type": "code",
      "metadata": {
        "id": "IN8jSpj9AoWj"
      },
      "source": [
        "x=89\r\n",
        "def prin(): # local\r\n",
        "  x=50\r\n",
        "  print(x)"
      ],
      "execution_count": null,
      "outputs": []
    },
    {
      "cell_type": "code",
      "metadata": {
        "colab": {
          "base_uri": "https://localhost:8080/"
        },
        "id": "4kiFIPc7A_Q1",
        "outputId": "3ddaee2a-2f0a-4af5-9133-ee93d07e0b4b"
      },
      "source": [
        "print(x)"
      ],
      "execution_count": null,
      "outputs": [
        {
          "output_type": "stream",
          "text": [
            "89\n"
          ],
          "name": "stdout"
        }
      ]
    },
    {
      "cell_type": "code",
      "metadata": {
        "colab": {
          "base_uri": "https://localhost:8080/"
        },
        "id": "IDh6sV_pBABH",
        "outputId": "ba567b1b-d053-494e-ea9f-ec5d482cecec"
      },
      "source": [
        "prin()"
      ],
      "execution_count": null,
      "outputs": [
        {
          "output_type": "stream",
          "text": [
            "50\n"
          ],
          "name": "stdout"
        }
      ]
    },
    {
      "cell_type": "code",
      "metadata": {
        "id": "0vtIN09BBwDr"
      },
      "source": [
        "def greet(): # enclosing\r\n",
        "  name='Sasi'\r\n",
        "  def wish():\r\n",
        "    print('Hello',name)\r\n",
        "  wish()"
      ],
      "execution_count": null,
      "outputs": []
    },
    {
      "cell_type": "code",
      "metadata": {
        "colab": {
          "base_uri": "https://localhost:8080/"
        },
        "id": "GheWDysYCBRj",
        "outputId": "097faae4-7d4d-4fb3-a3f6-c924e1a8cede"
      },
      "source": [
        "greet()"
      ],
      "execution_count": null,
      "outputs": [
        {
          "output_type": "stream",
          "text": [
            "Hello Sasi\n"
          ],
          "name": "stdout"
        }
      ]
    },
    {
      "cell_type": "markdown",
      "metadata": {
        "id": "Cy51EseGC2pg"
      },
      "source": [
        "- *args\r\n",
        "- **kwargs"
      ]
    },
    {
      "cell_type": "code",
      "metadata": {
        "id": "gqdWrsWcCB7B"
      },
      "source": [
        "def add(*args):\r\n",
        "  return sum(args)"
      ],
      "execution_count": null,
      "outputs": []
    },
    {
      "cell_type": "code",
      "metadata": {
        "colab": {
          "base_uri": "https://localhost:8080/"
        },
        "id": "c5BAqvEUDOWI",
        "outputId": "cb136593-1e85-4e2b-fbc1-4baafb159179"
      },
      "source": [
        "add(1,2,3)"
      ],
      "execution_count": null,
      "outputs": [
        {
          "output_type": "execute_result",
          "data": {
            "text/plain": [
              "6"
            ]
          },
          "metadata": {
            "tags": []
          },
          "execution_count": 59
        }
      ]
    },
    {
      "cell_type": "code",
      "metadata": {
        "id": "aLNGtlUqDPJ6"
      },
      "source": [
        "def add(*sasi):\r\n",
        "  return sum(sasi)"
      ],
      "execution_count": null,
      "outputs": []
    },
    {
      "cell_type": "code",
      "metadata": {
        "colab": {
          "base_uri": "https://localhost:8080/"
        },
        "id": "h9dQpNP5DTSR",
        "outputId": "7b890941-304a-400e-f91d-f9722c2d4efa"
      },
      "source": [
        "add(1,2,4,4,4,5)"
      ],
      "execution_count": null,
      "outputs": [
        {
          "output_type": "execute_result",
          "data": {
            "text/plain": [
              "20"
            ]
          },
          "metadata": {
            "tags": []
          },
          "execution_count": 63
        }
      ]
    },
    {
      "cell_type": "code",
      "metadata": {
        "colab": {
          "base_uri": "https://localhost:8080/"
        },
        "id": "CGNGYbq5DXKZ",
        "outputId": "e8036445-980c-4986-9a00-052fb66817e8"
      },
      "source": [
        "def add(*args):\r\n",
        "  print(args) # args are sent in tuples\r\n",
        "  return sum(args)\r\n",
        "\r\n",
        "add(2,4,6)"
      ],
      "execution_count": null,
      "outputs": [
        {
          "output_type": "stream",
          "text": [
            "(2, 4, 6)\n"
          ],
          "name": "stdout"
        },
        {
          "output_type": "execute_result",
          "data": {
            "text/plain": [
              "12"
            ]
          },
          "metadata": {
            "tags": []
          },
          "execution_count": 65
        }
      ]
    },
    {
      "cell_type": "markdown",
      "metadata": {
        "id": "9MjrafpZEHeu"
      },
      "source": [
        "To take ctrl over the arguments also, use keyword arguments"
      ]
    },
    {
      "cell_type": "code",
      "metadata": {
        "colab": {
          "base_uri": "https://localhost:8080/"
        },
        "id": "i1aoenmTDgFB",
        "outputId": "b442a255-7601-412b-877d-bca92fdb5905"
      },
      "source": [
        "def myfunc(**kwargs):\r\n",
        "  if 'fruit' in kwargs:\r\n",
        "    print(kwargs)\r\n",
        "    print(kwargs['fruit'])\r\n",
        "\r\n",
        "myfunc(fruit='pine',x=0)"
      ],
      "execution_count": null,
      "outputs": [
        {
          "output_type": "stream",
          "text": [
            "{'fruit': 'pine', 'x': 0}\n",
            "pine\n"
          ],
          "name": "stdout"
        }
      ]
    },
    {
      "cell_type": "markdown",
      "metadata": {
        "id": "JgX4cxMdJwhU"
      },
      "source": [
        "All & Any"
      ]
    },
    {
      "cell_type": "code",
      "metadata": {
        "id": "HY6FCp3lJv9V"
      },
      "source": [
        "l=[1,2,4,True,False]"
      ],
      "execution_count": null,
      "outputs": []
    },
    {
      "cell_type": "code",
      "metadata": {
        "colab": {
          "base_uri": "https://localhost:8080/"
        },
        "id": "cFzEA_TTEbRp",
        "outputId": "2c423ba1-0370-49ab-e9c2-352982ea89c6"
      },
      "source": [
        "all(l)"
      ],
      "execution_count": null,
      "outputs": [
        {
          "output_type": "execute_result",
          "data": {
            "text/plain": [
              "False"
            ]
          },
          "metadata": {
            "tags": []
          },
          "execution_count": 82
        }
      ]
    },
    {
      "cell_type": "code",
      "metadata": {
        "colab": {
          "base_uri": "https://localhost:8080/"
        },
        "id": "JInV7jr2Jz0l",
        "outputId": "1a642f18-a322-475e-f9a7-a7fb8d84ab13"
      },
      "source": [
        "any(l)"
      ],
      "execution_count": null,
      "outputs": [
        {
          "output_type": "execute_result",
          "data": {
            "text/plain": [
              "True"
            ]
          },
          "metadata": {
            "tags": []
          },
          "execution_count": 83
        }
      ]
    },
    {
      "cell_type": "markdown",
      "metadata": {
        "id": "2evvOrYnfSQl"
      },
      "source": [
        "Try, except , finally "
      ]
    },
    {
      "cell_type": "code",
      "metadata": {
        "colab": {
          "base_uri": "https://localhost:8080/"
        },
        "id": "gE4GdQMvJ1U2",
        "outputId": "63bbff27-8d58-4588-acbe-fad3eba84d56"
      },
      "source": [
        "try:\r\n",
        "  3/0\r\n",
        "except:\r\n",
        "  print(\"error occured\")\r\n",
        "else:\r\n",
        "  print(\"else executes if no error\")"
      ],
      "execution_count": null,
      "outputs": [
        {
          "output_type": "stream",
          "text": [
            "error occured\n"
          ],
          "name": "stdout"
        }
      ]
    },
    {
      "cell_type": "code",
      "metadata": {
        "id": "m2XJukJCK0bu"
      },
      "source": [
        ""
      ],
      "execution_count": null,
      "outputs": []
    }
  ]
}