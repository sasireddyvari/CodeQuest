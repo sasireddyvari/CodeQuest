{
  "nbformat": 4,
  "nbformat_minor": 0,
  "metadata": {
    "colab": {
      "name": "OOP.ipynb",
      "provenance": [],
      "collapsed_sections": [],
      "authorship_tag": "ABX9TyP0fehqe7dww/t2CG8Ij7Pm",
      "include_colab_link": true
    },
    "kernelspec": {
      "name": "python3",
      "display_name": "Python 3"
    }
  },
  "cells": [
    {
      "cell_type": "markdown",
      "metadata": {
        "id": "view-in-github",
        "colab_type": "text"
      },
      "source": [
        "<a href=\"https://colab.research.google.com/github/sasireddyvari/CodeQuest_Python/blob/master/OOP.ipynb\" target=\"_parent\"><img src=\"https://colab.research.google.com/assets/colab-badge.svg\" alt=\"Open In Colab\"/></a>"
      ]
    },
    {
      "cell_type": "markdown",
      "metadata": {
        "id": "lKMDb_EltBzE"
      },
      "source": [
        "# Object Oriented Programming\r\n",
        "\r\n",
        "For this lesson we will construct our knowledge of OOP in Python by building on the following topics:\r\n",
        "\r\n",
        "* Objects\r\n",
        "* Using the *class* keyword\r\n",
        "* Creating class attributes\r\n",
        "* Creating methods in a class\r\n",
        "* Learning about Inheritance\r\n",
        "* Learning about Polymorphism\r\n",
        "* Learning about Special Methods for classes"
      ]
    },
    {
      "cell_type": "code",
      "metadata": {
        "id": "tsa8gm37sv1U"
      },
      "source": [
        "lst = [1,2,3]"
      ],
      "execution_count": 1,
      "outputs": []
    },
    {
      "cell_type": "markdown",
      "metadata": {
        "id": "Csv8VBI9tiAH"
      },
      "source": [
        "lst is an object and we call methods as below"
      ]
    },
    {
      "cell_type": "code",
      "metadata": {
        "colab": {
          "base_uri": "https://localhost:8080/"
        },
        "id": "A0WXMZWytVny",
        "outputId": "68603ffa-702e-4841-9863-b2250e28901b"
      },
      "source": [
        "lst.count(2)"
      ],
      "execution_count": 2,
      "outputs": [
        {
          "output_type": "execute_result",
          "data": {
            "text/plain": [
              "1"
            ]
          },
          "metadata": {
            "tags": []
          },
          "execution_count": 2
        }
      ]
    },
    {
      "cell_type": "markdown",
      "metadata": {
        "id": "QZ7oVxHXt0Bf"
      },
      "source": [
        "## Objects\r\n",
        "In Python, *everything is an object*. We use type() to check the type of object something is:"
      ]
    },
    {
      "cell_type": "code",
      "metadata": {
        "colab": {
          "base_uri": "https://localhost:8080/"
        },
        "id": "DdeqT1URtddV",
        "outputId": "8185e417-179f-494e-b256-7ca2bbc9ed48"
      },
      "source": [
        "print(type(1))\r\n",
        "print(type([]))\r\n",
        "print(type(()))\r\n",
        "print(type({}))"
      ],
      "execution_count": 3,
      "outputs": [
        {
          "output_type": "stream",
          "text": [
            "<class 'int'>\n",
            "<class 'list'>\n",
            "<class 'tuple'>\n",
            "<class 'dict'>\n"
          ],
          "name": "stdout"
        }
      ]
    },
    {
      "cell_type": "code",
      "metadata": {
        "colab": {
          "base_uri": "https://localhost:8080/"
        },
        "id": "RnqJQzjJt42I",
        "outputId": "e312ccce-2513-4494-9a76-5110a44303fa"
      },
      "source": [
        "# Create a new object type called Sample\r\n",
        "class Sample:\r\n",
        "    pass\r\n",
        "# Instance of Sample\r\n",
        "x = Sample()\r\n",
        "\r\n",
        "print(type(x))"
      ],
      "execution_count": 5,
      "outputs": [
        {
          "output_type": "stream",
          "text": [
            "<class '__main__.Sample'>\n"
          ],
          "name": "stdout"
        }
      ]
    },
    {
      "cell_type": "markdown",
      "metadata": {
        "id": "9gBeiMz-uO08"
      },
      "source": [
        "Classes are created using First letter as capital. \r\n",
        "\r\n",
        "Inside of the class Sample ,we currently just have pass. But we can define class attributes and methods.\r\n",
        "\r\n",
        "An **attribute** is a characteristic of an object.\r\n",
        "A **method** is an operation we can perform with the object."
      ]
    },
    {
      "cell_type": "code",
      "metadata": {
        "id": "ccNd9_f4t8Cm"
      },
      "source": [
        "class Dog:\r\n",
        "    def __init__(self,breed):\r\n",
        "        self.breed = breed # attribute\r\n",
        "        \r\n",
        "sam = Dog(breed='Lab')\r\n",
        "frank = Dog(breed='Huskie')"
      ],
      "execution_count": 6,
      "outputs": []
    },
    {
      "cell_type": "code",
      "metadata": {
        "colab": {
          "base_uri": "https://localhost:8080/",
          "height": 35
        },
        "id": "saXRue7Dui1l",
        "outputId": "5d726db4-7f1e-49e8-891f-68f26351e096"
      },
      "source": [
        "sam.breed"
      ],
      "execution_count": 7,
      "outputs": [
        {
          "output_type": "execute_result",
          "data": {
            "application/vnd.google.colaboratory.intrinsic+json": {
              "type": "string"
            },
            "text/plain": [
              "'Lab'"
            ]
          },
          "metadata": {
            "tags": []
          },
          "execution_count": 7
        }
      ]
    },
    {
      "cell_type": "code",
      "metadata": {
        "id": "5GNd8FTQul_v"
      },
      "source": [
        "class Dog:\r\n",
        "    # Class Object Attribute\r\n",
        "    species = 'mammal'\r\n",
        "    \r\n",
        "    def __init__(self,breed,name):\r\n",
        "        self.breed = breed\r\n",
        "        self.name = name"
      ],
      "execution_count": 8,
      "outputs": []
    },
    {
      "cell_type": "code",
      "metadata": {
        "id": "8PjG4fGhuucc"
      },
      "source": [
        "sam = Dog('Lab','Sam')"
      ],
      "execution_count": 9,
      "outputs": []
    },
    {
      "cell_type": "code",
      "metadata": {
        "colab": {
          "base_uri": "https://localhost:8080/",
          "height": 35
        },
        "id": "SQXGym3KuwXo",
        "outputId": "facdb075-05ab-4710-8926-74b803549721"
      },
      "source": [
        "sam.species"
      ],
      "execution_count": 10,
      "outputs": [
        {
          "output_type": "execute_result",
          "data": {
            "application/vnd.google.colaboratory.intrinsic+json": {
              "type": "string"
            },
            "text/plain": [
              "'mammal'"
            ]
          },
          "metadata": {
            "tags": []
          },
          "execution_count": 10
        }
      ]
    },
    {
      "cell_type": "code",
      "metadata": {
        "colab": {
          "base_uri": "https://localhost:8080/",
          "height": 35
        },
        "id": "MH2KzIx5u1D6",
        "outputId": "97bfa13b-0403-477f-fe66-7cd953562c31"
      },
      "source": [
        "sam.breed"
      ],
      "execution_count": 11,
      "outputs": [
        {
          "output_type": "execute_result",
          "data": {
            "application/vnd.google.colaboratory.intrinsic+json": {
              "type": "string"
            },
            "text/plain": [
              "'Lab'"
            ]
          },
          "metadata": {
            "tags": []
          },
          "execution_count": 11
        }
      ]
    },
    {
      "cell_type": "markdown",
      "metadata": {
        "id": "ms_zE6Jlu57x"
      },
      "source": [
        "**Area of a circle**"
      ]
    },
    {
      "cell_type": "code",
      "metadata": {
        "colab": {
          "base_uri": "https://localhost:8080/"
        },
        "id": "HmyBF3hvu2TR",
        "outputId": "67b38026-4e0c-4500-b1ae-3551b8aee849"
      },
      "source": [
        "class Circle:\r\n",
        "    pi = 3.14\r\n",
        "\r\n",
        "    # Circle gets instantiated with a radius (default is 1)\r\n",
        "    def __init__(self, radius=1):\r\n",
        "        self.radius = radius \r\n",
        "        self.area = radius * radius * Circle.pi\r\n",
        "\r\n",
        "    # Method for resetting Radius\r\n",
        "    def setRadius(self, new_radius):\r\n",
        "        self.radius = new_radius\r\n",
        "        self.area = new_radius * new_radius * self.pi\r\n",
        "\r\n",
        "    # Method for getting Circumference\r\n",
        "    def getCircumference(self):\r\n",
        "        return self.radius * self.pi * 2\r\n",
        "\r\n",
        "c = Circle()\r\n",
        "\r\n",
        "print('Radius is: ',c.radius)\r\n",
        "print('Area is: ',c.area)\r\n",
        "print('Circumference is: ',c.getCircumference())"
      ],
      "execution_count": 12,
      "outputs": [
        {
          "output_type": "stream",
          "text": [
            "Radius is:  1\n",
            "Area is:  3.14\n",
            "Circumference is:  6.28\n"
          ],
          "name": "stdout"
        }
      ]
    },
    {
      "cell_type": "code",
      "metadata": {
        "colab": {
          "base_uri": "https://localhost:8080/"
        },
        "id": "twjtH2Hpu95S",
        "outputId": "f06a104e-3847-4f32-b81c-fafc4c996079"
      },
      "source": [
        "c.setRadius(2)\r\n",
        "\r\n",
        "print('Radius is: ',c.radius)\r\n",
        "print('Area is: ',c.area)\r\n",
        "print('Circumference is: ',c.getCircumference())"
      ],
      "execution_count": 13,
      "outputs": [
        {
          "output_type": "stream",
          "text": [
            "Radius is:  2\n",
            "Area is:  12.56\n",
            "Circumference is:  12.56\n"
          ],
          "name": "stdout"
        }
      ]
    },
    {
      "cell_type": "markdown",
      "metadata": {
        "id": "621GrTYjvQ65"
      },
      "source": [
        "**Inheritance**"
      ]
    },
    {
      "cell_type": "code",
      "metadata": {
        "id": "UpDhcq3WvD6A"
      },
      "source": [
        "class Animal:\r\n",
        "  species = \"mammal\"\r\n",
        "  def __init__(self):\r\n",
        "    print(\"Animal created\")\r\n",
        "\r\n",
        "  def whoAmI(self):\r\n",
        "    print(\"Animal\")\r\n",
        "\r\n",
        "  def eat(self):\r\n",
        "    print(\"Eating\")\r\n",
        "\r\n",
        "\r\n",
        "class Dog(Animal):\r\n",
        "    def __init__(self, name):\r\n",
        "      Animal.__init__(self)\r\n",
        "      self.name = name\r\n",
        "      print(\"Dog created\")\r\n",
        "\r\n",
        "    def whoAmI(self):\r\n",
        "      print(\"Dog\")\r\n",
        "\r\n",
        "    def bark(self):\r\n",
        "      print(\"Woof!\")"
      ],
      "execution_count": 26,
      "outputs": []
    },
    {
      "cell_type": "code",
      "metadata": {
        "colab": {
          "base_uri": "https://localhost:8080/"
        },
        "id": "VdsPTsy_vTYE",
        "outputId": "52c8dbf5-df95-4147-cad4-a2a8fe5fcc38"
      },
      "source": [
        "d = Dog('Sam')"
      ],
      "execution_count": 28,
      "outputs": [
        {
          "output_type": "stream",
          "text": [
            "Animal created\n",
            "Dog created\n"
          ],
          "name": "stdout"
        }
      ]
    },
    {
      "cell_type": "code",
      "metadata": {
        "colab": {
          "base_uri": "https://localhost:8080/"
        },
        "id": "xRB-tX3wvX_x",
        "outputId": "c6785029-1245-4969-9f0c-436a2aaa0329"
      },
      "source": [
        "d.whoAmI()"
      ],
      "execution_count": 29,
      "outputs": [
        {
          "output_type": "stream",
          "text": [
            "Dog\n"
          ],
          "name": "stdout"
        }
      ]
    },
    {
      "cell_type": "code",
      "metadata": {
        "colab": {
          "base_uri": "https://localhost:8080/"
        },
        "id": "Huvv5EFKvcNp",
        "outputId": "b3689837-9206-4aa0-d937-f14c4b1d02e6"
      },
      "source": [
        "d.eat()"
      ],
      "execution_count": 30,
      "outputs": [
        {
          "output_type": "stream",
          "text": [
            "Eating\n"
          ],
          "name": "stdout"
        }
      ]
    },
    {
      "cell_type": "markdown",
      "metadata": {
        "id": "ok2enujOwgBg"
      },
      "source": [
        "**PolyMorphism:**"
      ]
    },
    {
      "cell_type": "code",
      "metadata": {
        "colab": {
          "base_uri": "https://localhost:8080/"
        },
        "id": "TKpTRJPewUlP",
        "outputId": "2201b3aa-798e-4148-acbc-7756189afdd6"
      },
      "source": [
        "class Dog:\r\n",
        "  def __init__(self, name):\r\n",
        "    self.name = name\r\n",
        "\r\n",
        "  def speak(self):\r\n",
        "    return self.name+' says Woof!'\r\n",
        "    \r\n",
        "class Cat:\r\n",
        "  def __init__(self, name):\r\n",
        "    self.name = name\r\n",
        "\r\n",
        "  def speak(self):\r\n",
        "    return self.name+' says Meow!' \r\n",
        "    \r\n",
        "niko = Dog('Niko')\r\n",
        "felix = Cat('Felix')\r\n",
        "\r\n",
        "print(niko.speak())\r\n",
        "print(felix.speak())"
      ],
      "execution_count": 31,
      "outputs": [
        {
          "output_type": "stream",
          "text": [
            "Niko says Woof!\n",
            "Felix says Meow!\n"
          ],
          "name": "stdout"
        }
      ]
    },
    {
      "cell_type": "markdown",
      "metadata": {
        "id": "0Z-XhHHjy88I"
      },
      "source": [
        "**Special Methods**"
      ]
    },
    {
      "cell_type": "code",
      "metadata": {
        "id": "2XdA1SOawqP1"
      },
      "source": [
        "class Book:\r\n",
        "  def __init__(self, title, author, pages):\r\n",
        "    print(\"A book is created\")\r\n",
        "    self.title = title\r\n",
        "    self.author = author\r\n",
        "    self.pages = pages\r\n",
        "\r\n",
        "  def __str__(self):\r\n",
        "    return \"Title: %s, author: %s, pages: %s\" %(self.title, self.author, self.pages)\r\n",
        "\r\n",
        "  def __len__(self):\r\n",
        "    return self.pages\r\n",
        "\r\n",
        "  def __del__(self):\r\n",
        "    print(\"A book is destroyed\")"
      ],
      "execution_count": 32,
      "outputs": []
    },
    {
      "cell_type": "code",
      "metadata": {
        "colab": {
          "base_uri": "https://localhost:8080/"
        },
        "id": "7eplVRs5zFXs",
        "outputId": "099bc373-169d-4d82-e34f-eb8281beb964"
      },
      "source": [
        "book = Book(\"Python Rocks!\", \"Jose Portilla\", 159)\r\n",
        "\r\n",
        "#Special Methods\r\n",
        "print(book)\r\n",
        "print(len(book))\r\n",
        "del book"
      ],
      "execution_count": 33,
      "outputs": [
        {
          "output_type": "stream",
          "text": [
            "A book is created\n",
            "Title: Python Rocks!, author: Jose Portilla, pages: 159\n",
            "159\n",
            "A book is destroyed\n"
          ],
          "name": "stdout"
        }
      ]
    },
    {
      "cell_type": "markdown",
      "metadata": {
        "id": "7VL0gkU-zbUY"
      },
      "source": [
        "Modules and Packages"
      ]
    },
    {
      "cell_type": "markdown",
      "metadata": {
        "id": "B6iuawVh0Ovx"
      },
      "source": [
        "Functions can be called only by its name, as it is defined independently. But methods can’t be called by its name only, we need to invoke the class by a reference of that class in which it is defined, i.e. method is defined within a class and hence they are dependent on that class."
      ]
    },
    {
      "cell_type": "code",
      "metadata": {
        "id": "74OJ2FgyzI_G"
      },
      "source": [
        "import mymodule as mm # mymodule is a .py file # Donot execute"
      ],
      "execution_count": null,
      "outputs": []
    },
    {
      "cell_type": "code",
      "metadata": {
        "id": "iAGjFt3_0SvL"
      },
      "source": [
        "mm.myfunction1() # myfunction1 is created as a function in the mymodule # Donot run"
      ],
      "execution_count": null,
      "outputs": []
    }
  ]
}