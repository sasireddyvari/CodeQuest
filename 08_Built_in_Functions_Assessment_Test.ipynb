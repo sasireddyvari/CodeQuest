{
  "nbformat": 4,
  "nbformat_minor": 0,
  "metadata": {
    "kernelspec": {
      "display_name": "Python 3",
      "language": "python",
      "name": "python3"
    },
    "language_info": {
      "codemirror_mode": {
        "name": "ipython",
        "version": 3
      },
      "file_extension": ".py",
      "mimetype": "text/x-python",
      "name": "python",
      "nbconvert_exporter": "python",
      "pygments_lexer": "ipython3",
      "version": "3.6.8"
    },
    "colab": {
      "name": "08-Built-in Functions Assessment Test.ipynb",
      "provenance": [],
      "collapsed_sections": [],
      "toc_visible": true,
      "include_colab_link": true
    }
  },
  "cells": [
    {
      "cell_type": "markdown",
      "metadata": {
        "id": "view-in-github",
        "colab_type": "text"
      },
      "source": [
        "<a href=\"https://colab.research.google.com/github/sasireddyvari/CodeQuest_Python/blob/master/08_Built_in_Functions_Assessment_Test.ipynb\" target=\"_parent\"><img src=\"https://colab.research.google.com/assets/colab-badge.svg\" alt=\"Open In Colab\"/></a>"
      ]
    },
    {
      "cell_type": "markdown",
      "metadata": {
        "id": "Mtv-WWYYIhZv"
      },
      "source": [
        "# Built-in Functions Test \n",
        "\n",
        "### For this test, you should use built-in functions and be able to write the requested functions in one line."
      ]
    },
    {
      "cell_type": "markdown",
      "metadata": {
        "id": "aoFrXiZWIhaA"
      },
      "source": [
        "### Problem 1\n",
        "\n",
        "Use map() to create a function which finds the length of each word in the phrase\n",
        "(broken by spaces) and returns the values in a list.\n",
        "\n",
        "The function will have an input of a string, and output a list of integers."
      ]
    },
    {
      "cell_type": "code",
      "metadata": {
        "collapsed": true,
        "id": "zGyUsVMlIhaI"
      },
      "source": [
        "def word_lengths(phrase):\n",
        "  res=[]\n",
        "  words=phrase.split()\n",
        "  for word in words:\n",
        "    res.append(len(word))\n",
        "  return res"
      ],
      "execution_count": null,
      "outputs": []
    },
    {
      "cell_type": "code",
      "metadata": {
        "id": "Z_OX_mv0IhaJ",
        "colab": {
          "base_uri": "https://localhost:8080/"
        },
        "outputId": "25a52ad3-2322-4641-82bf-762bde3db750"
      },
      "source": [
        "word_lengths('How long are the words in this phrase')"
      ],
      "execution_count": null,
      "outputs": [
        {
          "output_type": "execute_result",
          "data": {
            "text/plain": [
              "[3, 4, 3, 3, 5, 2, 4, 6]"
            ]
          },
          "metadata": {
            "tags": []
          },
          "execution_count": 53
        }
      ]
    },
    {
      "cell_type": "code",
      "metadata": {
        "id": "O-ardDwob7y9"
      },
      "source": [
        "phrase='How long are the words in this phrase'.split()"
      ],
      "execution_count": null,
      "outputs": []
    },
    {
      "cell_type": "code",
      "metadata": {
        "colab": {
          "base_uri": "https://localhost:8080/"
        },
        "id": "BJbUqWlYQNIn",
        "outputId": "3e629c7a-c7fe-4f8a-c7da-29de3cd1803b"
      },
      "source": [
        "list(map(lambda word_lengths: len(word_lengths),phrase))"
      ],
      "execution_count": null,
      "outputs": [
        {
          "output_type": "execute_result",
          "data": {
            "text/plain": [
              "[3, 4, 3, 3, 5, 2, 4, 6]"
            ]
          },
          "metadata": {
            "tags": []
          },
          "execution_count": 55
        }
      ]
    },
    {
      "cell_type": "markdown",
      "metadata": {
        "id": "rwpJ9SafIhaN"
      },
      "source": [
        "### Problem 2 \n",
        "\n",
        "Use reduce() to take a list of digits and return the number that they\n",
        "correspond to. For example, \\[1, 2, 3] corresponds to one-hundred-twenty-three. <br>*Do not convert the integers to strings!* "
      ]
    },
    {
      "cell_type": "code",
      "metadata": {
        "colab": {
          "base_uri": "https://localhost:8080/"
        },
        "id": "qeCXLaYdYi_7",
        "outputId": "6e138da4-648b-413b-8e56-37aabfe3962f"
      },
      "source": [
        "reduce(lambda x,y: x*10+y, [3,4,3,2,1],0) # 3*10+4= 34, 34 * 10 + 3= 343, 343*10 +2= 3432, 3432 *10 + 1= 34321"
      ],
      "execution_count": null,
      "outputs": [
        {
          "output_type": "execute_result",
          "data": {
            "text/plain": [
              "34321"
            ]
          },
          "metadata": {
            "tags": []
          },
          "execution_count": 57
        }
      ]
    },
    {
      "cell_type": "code",
      "metadata": {
        "collapsed": true,
        "id": "8F_zN6_fIhaP"
      },
      "source": [
        "from functools import reduce\n",
        "\n",
        "def digits_to_num(digits):\n",
        "  res=int(\"\".join(map(str,digits)))\n",
        "  return res"
      ],
      "execution_count": null,
      "outputs": []
    },
    {
      "cell_type": "code",
      "metadata": {
        "id": "g23-nQ4xIhaQ",
        "colab": {
          "base_uri": "https://localhost:8080/"
        },
        "outputId": "902e4fb5-14b0-43bd-b151-fcac41bf1e69"
      },
      "source": [
        "digits_to_num([3,4,3,2,1])"
      ],
      "execution_count": null,
      "outputs": [
        {
          "output_type": "execute_result",
          "data": {
            "text/plain": [
              "34321"
            ]
          },
          "metadata": {
            "tags": []
          },
          "execution_count": 59
        }
      ]
    },
    {
      "cell_type": "markdown",
      "metadata": {
        "id": "grQ1bugIIhaR"
      },
      "source": [
        "### Problem 3\n",
        "\n",
        "Use filter to return the words from a list of words which start with a target letter."
      ]
    },
    {
      "cell_type": "code",
      "metadata": {
        "collapsed": true,
        "id": "tZQYW1HcIhaS"
      },
      "source": [
        "def filter_words(word_list, letter):\n",
        "  res=[]\n",
        "  for i in word_list:\n",
        "    if i.startswith(letter):\n",
        "      res.append(i)\n",
        "  return res"
      ],
      "execution_count": null,
      "outputs": []
    },
    {
      "cell_type": "code",
      "metadata": {
        "id": "Kim9DpdtIhaT",
        "colab": {
          "base_uri": "https://localhost:8080/"
        },
        "outputId": "eea846e1-e7e6-4a28-8e80-dd153722f8b5"
      },
      "source": [
        "l = ['hello','are','cat','dog','ham','hi','go','to','heart']\n",
        "filter_words(l,'h')"
      ],
      "execution_count": null,
      "outputs": [
        {
          "output_type": "execute_result",
          "data": {
            "text/plain": [
              "['hello', 'ham', 'hi', 'heart']"
            ]
          },
          "metadata": {
            "tags": []
          },
          "execution_count": 68
        }
      ]
    },
    {
      "cell_type": "code",
      "metadata": {
        "id": "g_gEfgQ8vZp3"
      },
      "source": [
        "def filter_words_filter(word, letter):\r\n",
        "  if word.startswith(letter):\r\n",
        "    return word"
      ],
      "execution_count": null,
      "outputs": []
    },
    {
      "cell_type": "code",
      "metadata": {
        "colab": {
          "base_uri": "https://localhost:8080/"
        },
        "id": "dA5334kUs3z9",
        "outputId": "c8d96343-5c26-47bf-e16f-3d3833b1e582"
      },
      "source": [
        "list(filter(lambda l:filter_words_filter(l,'h'),l))"
      ],
      "execution_count": null,
      "outputs": [
        {
          "output_type": "execute_result",
          "data": {
            "text/plain": [
              "['hello', 'ham', 'hi', 'heart']"
            ]
          },
          "metadata": {
            "tags": []
          },
          "execution_count": 76
        }
      ]
    },
    {
      "cell_type": "markdown",
      "metadata": {
        "id": "LUVGVHWeIhaU"
      },
      "source": [
        "### Problem 4\n",
        "\n",
        "Use zip() and a list comprehension to return a list of the same length where each value is the two strings from\n",
        "L1 and L2 concatenated together with connector between them. Look at the example output below:"
      ]
    },
    {
      "cell_type": "code",
      "metadata": {
        "collapsed": true,
        "id": "gxazlGwwIhaU"
      },
      "source": [
        "def concatenate(L1, L2, connector):\n",
        "  return [x+'-'+y for x, y in zip(L1, L2)]   "
      ],
      "execution_count": null,
      "outputs": []
    },
    {
      "cell_type": "code",
      "metadata": {
        "id": "JvbL3JahIhaV",
        "colab": {
          "base_uri": "https://localhost:8080/"
        },
        "outputId": "68db1108-ebd3-45d1-e294-6617171d90af"
      },
      "source": [
        "concatenate(['A','B'],['a','b'],'-')"
      ],
      "execution_count": null,
      "outputs": [
        {
          "output_type": "execute_result",
          "data": {
            "text/plain": [
              "['A-a', 'B-b']"
            ]
          },
          "metadata": {
            "tags": []
          },
          "execution_count": 83
        }
      ]
    },
    {
      "cell_type": "markdown",
      "metadata": {
        "id": "EfmvMuKCIhaV"
      },
      "source": [
        "### Problem 5\n",
        "\n",
        "Use enumerate() and other skills to return a dictionary which has the values of the list as keys and the index as the value. You may assume that a value will only appear once in the given list.\n"
      ]
    },
    {
      "cell_type": "code",
      "metadata": {
        "id": "A0rdh3936XEe"
      },
      "source": [
        "def dict_list(L):\r\n",
        "  dic=dict(enumerate(L))\r\n",
        "  res= {y:x for x,y in dic.items()}\r\n",
        "  return res"
      ],
      "execution_count": null,
      "outputs": []
    },
    {
      "cell_type": "code",
      "metadata": {
        "collapsed": true,
        "id": "kTe1DL6YIhaW"
      },
      "source": [
        "def d_list(L):\n",
        "  dic={}\n",
        "  for i,d in enumerate(L):\n",
        "    dic[d]=i\n",
        "  return dic"
      ],
      "execution_count": null,
      "outputs": []
    },
    {
      "cell_type": "code",
      "metadata": {
        "id": "MuWjByFmIhaW",
        "colab": {
          "base_uri": "https://localhost:8080/"
        },
        "outputId": "dbed4d4f-36eb-466b-bbdc-ef05230ad68f"
      },
      "source": [
        "d_list(['a','b','c'])"
      ],
      "execution_count": null,
      "outputs": [
        {
          "output_type": "execute_result",
          "data": {
            "text/plain": [
              "{'a': 0, 'b': 1, 'c': 2}"
            ]
          },
          "metadata": {
            "tags": []
          },
          "execution_count": 106
        }
      ]
    },
    {
      "cell_type": "markdown",
      "metadata": {
        "id": "lS5v-tq9IhaX"
      },
      "source": [
        "### Problem 6\n",
        "\n",
        "Use enumerate() and other skills from above to return the count of the number of items in the list whose value equals its index.\n"
      ]
    },
    {
      "cell_type": "code",
      "metadata": {
        "collapsed": true,
        "id": "ok7BtLplIhaY"
      },
      "source": [
        "def count_match_index(L):\n",
        "  count=0\n",
        "  for i,val in enumerate(L):\n",
        "    if i==val:\n",
        "      count +=1\n",
        "  return count"
      ],
      "execution_count": null,
      "outputs": []
    },
    {
      "cell_type": "code",
      "metadata": {
        "id": "xItR8ogyIhaZ",
        "colab": {
          "base_uri": "https://localhost:8080/"
        },
        "outputId": "a0fdd0a5-9fd1-463b-cf77-4a8cad76c23b"
      },
      "source": [
        "count_match_index([0,2,2,1,5,5,6,10])"
      ],
      "execution_count": null,
      "outputs": [
        {
          "output_type": "execute_result",
          "data": {
            "text/plain": [
              "4"
            ]
          },
          "metadata": {
            "tags": []
          },
          "execution_count": 108
        }
      ]
    },
    {
      "cell_type": "markdown",
      "metadata": {
        "id": "RiBu6NmjIhaZ"
      },
      "source": [
        "# Great Job!"
      ]
    }
  ]
}