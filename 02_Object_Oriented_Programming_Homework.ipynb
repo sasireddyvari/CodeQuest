{
  "nbformat": 4,
  "nbformat_minor": 0,
  "metadata": {
    "kernelspec": {
      "display_name": "Python 3",
      "language": "python",
      "name": "python3"
    },
    "language_info": {
      "codemirror_mode": {
        "name": "ipython",
        "version": 3
      },
      "file_extension": ".py",
      "mimetype": "text/x-python",
      "name": "python",
      "nbconvert_exporter": "python",
      "pygments_lexer": "ipython3",
      "version": "3.6.8"
    },
    "colab": {
      "name": "02-Object Oriented Programming Homework.ipynb",
      "provenance": [],
      "collapsed_sections": [],
      "include_colab_link": true
    }
  },
  "cells": [
    {
      "cell_type": "markdown",
      "metadata": {
        "id": "view-in-github",
        "colab_type": "text"
      },
      "source": [
        "<a href=\"https://colab.research.google.com/github/sasireddyvari/CodeQuest_Python/blob/master/02_Object_Oriented_Programming_Homework.ipynb\" target=\"_parent\"><img src=\"https://colab.research.google.com/assets/colab-badge.svg\" alt=\"Open In Colab\"/></a>"
      ]
    },
    {
      "cell_type": "markdown",
      "metadata": {
        "id": "av4_CJjEr8kd"
      },
      "source": [
        "# Object Oriented Programming\n",
        "## Homework Assignment\n",
        "\n",
        "#### Problem 1\n",
        "Fill in the Line class methods to accept coordinates as a pair of tuples and return the slope and distance of the line."
      ]
    },
    {
      "cell_type": "code",
      "metadata": {
        "collapsed": true,
        "id": "_ffZEP7Cr8ku"
      },
      "source": [
        "class Line:\n",
        "\n",
        "    def __init__(self,coor1,coor2):\n",
        "      self.coor1=coor1\n",
        "      self.coor2=coor2\n",
        "    \n",
        "    def distance(self):\n",
        "      return (((self.coor2[1]-self.coor1[1]) **2+(self.coor2[0]-self.coor1[0])**2)**0.5)\n",
        "    \n",
        "    def slope(self):\n",
        "      return ((self.coor2[1]-self.coor1[1])/(self.coor2[0]-self.coor1[0]))"
      ],
      "execution_count": 1,
      "outputs": []
    },
    {
      "cell_type": "code",
      "metadata": {
        "collapsed": true,
        "id": "bBmFFhyqr8k1"
      },
      "source": [
        "# EXAMPLE OUTPUT\n",
        "\n",
        "coordinate1 = (3,2)\n",
        "coordinate2 = (8,10)\n",
        "\n",
        "li = Line(coordinate1,coordinate2)"
      ],
      "execution_count": 2,
      "outputs": []
    },
    {
      "cell_type": "code",
      "metadata": {
        "id": "U-fUw7hmr8k1",
        "colab": {
          "base_uri": "https://localhost:8080/"
        },
        "outputId": "563ee8e4-739a-4bc5-f25c-7375acfabad2"
      },
      "source": [
        "li.distance()"
      ],
      "execution_count": 3,
      "outputs": [
        {
          "output_type": "execute_result",
          "data": {
            "text/plain": [
              "9.433981132056603"
            ]
          },
          "metadata": {
            "tags": []
          },
          "execution_count": 3
        }
      ]
    },
    {
      "cell_type": "code",
      "metadata": {
        "id": "bcLJd-For8k6",
        "colab": {
          "base_uri": "https://localhost:8080/"
        },
        "outputId": "4c01cd0f-e773-4b94-f591-4b2ac849fe6e"
      },
      "source": [
        "li.slope()"
      ],
      "execution_count": 4,
      "outputs": [
        {
          "output_type": "execute_result",
          "data": {
            "text/plain": [
              "1.6"
            ]
          },
          "metadata": {
            "tags": []
          },
          "execution_count": 4
        }
      ]
    },
    {
      "cell_type": "markdown",
      "metadata": {
        "id": "5X4omESEr8k7"
      },
      "source": [
        "________\n",
        "#### Problem 2"
      ]
    },
    {
      "cell_type": "markdown",
      "metadata": {
        "id": "5_Xr8VDcr8k8"
      },
      "source": [
        "Fill in the class "
      ]
    },
    {
      "cell_type": "code",
      "metadata": {
        "collapsed": true,
        "id": "fLHahzC-r8k8"
      },
      "source": [
        "class Cylinder:\n",
        "    pi=3.14\n",
        "    def __init__(self,height=1,radius=1):\n",
        "      self.height=height\n",
        "      self.radius=radius\n",
        "        \n",
        "    def volume(self):\n",
        "      return (self.pi * (self.radius **2) * self.height)\n",
        "    \n",
        "    def surface_area(self):\n",
        "      circles= 2 * self.pi * (self.radius **2)\n",
        "      walls= 2 * self.pi * self.radius * self.height\n",
        "      return (circles+walls)"
      ],
      "execution_count": 5,
      "outputs": []
    },
    {
      "cell_type": "code",
      "metadata": {
        "collapsed": true,
        "id": "4RtKCTTrr8k9"
      },
      "source": [
        "# EXAMPLE OUTPUT\n",
        "c = Cylinder(2,3)"
      ],
      "execution_count": 6,
      "outputs": []
    },
    {
      "cell_type": "code",
      "metadata": {
        "id": "l-xisMKOr8k9",
        "colab": {
          "base_uri": "https://localhost:8080/"
        },
        "outputId": "5469d7f9-fab6-4805-dfe1-1173d2c61d16"
      },
      "source": [
        "c.volume()"
      ],
      "execution_count": 7,
      "outputs": [
        {
          "output_type": "execute_result",
          "data": {
            "text/plain": [
              "56.52"
            ]
          },
          "metadata": {
            "tags": []
          },
          "execution_count": 7
        }
      ]
    },
    {
      "cell_type": "code",
      "metadata": {
        "id": "X71oiQDOr8k-",
        "colab": {
          "base_uri": "https://localhost:8080/"
        },
        "outputId": "eea9f583-01dd-4221-be3f-e5f2169885c1"
      },
      "source": [
        "c.surface_area()"
      ],
      "execution_count": 8,
      "outputs": [
        {
          "output_type": "execute_result",
          "data": {
            "text/plain": [
              "94.2"
            ]
          },
          "metadata": {
            "tags": []
          },
          "execution_count": 8
        }
      ]
    },
    {
      "cell_type": "code",
      "metadata": {
        "id": "D49MlS42yeeZ"
      },
      "source": [
        ""
      ],
      "execution_count": null,
      "outputs": []
    }
  ]
}