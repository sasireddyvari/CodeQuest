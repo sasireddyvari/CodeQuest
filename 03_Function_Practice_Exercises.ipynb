{
  "nbformat": 4,
  "nbformat_minor": 0,
  "metadata": {
    "kernelspec": {
      "display_name": "Python 3",
      "language": "python",
      "name": "python3"
    },
    "language_info": {
      "codemirror_mode": {
        "name": "ipython",
        "version": 3
      },
      "file_extension": ".py",
      "mimetype": "text/x-python",
      "name": "python",
      "nbconvert_exporter": "python",
      "pygments_lexer": "ipython3",
      "version": "3.6.8"
    },
    "colab": {
      "name": "03-Function Practice Exercises.ipynb",
      "provenance": [],
      "collapsed_sections": [],
      "toc_visible": true,
      "include_colab_link": true
    }
  },
  "cells": [
    {
      "cell_type": "markdown",
      "metadata": {
        "id": "view-in-github",
        "colab_type": "text"
      },
      "source": [
        "<a href=\"https://colab.research.google.com/github/sasireddyvari/CodeQuest_Python/blob/master/03_Function_Practice_Exercises.ipynb\" target=\"_parent\"><img src=\"https://colab.research.google.com/assets/colab-badge.svg\" alt=\"Open In Colab\"/></a>"
      ]
    },
    {
      "cell_type": "markdown",
      "metadata": {
        "id": "6N2_jXhlfVEj"
      },
      "source": [
        "# Assignment 3 Functions\n",
        "\n",
        "Problems are arranged in increasing difficulty:\n",
        "* Warmup - these can be solved using basic comparisons and methods\n",
        "* Level 1 - these may involve if/then conditional statements and simple methods\n",
        "* Level 2 - these may require iterating over sequences, usually with some kind of loop\n",
        "* Challenging - these will take some creativity to solve"
      ]
    },
    {
      "cell_type": "markdown",
      "metadata": {
        "id": "tJ66Un1afVE3"
      },
      "source": [
        "## WARMUP SECTION:"
      ]
    },
    {
      "cell_type": "markdown",
      "metadata": {
        "id": "dMGn2naGfVE7"
      },
      "source": [
        "#### LESSER OF TWO EVENS: Write a function that returns the lesser of two given numbers *if* both numbers are even, but returns the greater if one or both numbers are odd\n",
        "    lesser_of_two_evens(2,4) --> 2\n",
        "    lesser_of_two_evens(2,5) --> 5"
      ]
    },
    {
      "cell_type": "code",
      "metadata": {
        "collapsed": true,
        "id": "m0_fgg8TfVE8"
      },
      "source": [
        "def lesser_of_two_evens(a,b):\n",
        "  if a%2==0 and b%2==0:\n",
        "    res = min(a,b)\n",
        "  else:\n",
        "    res= max(a,b) \n",
        "  return res"
      ],
      "execution_count": null,
      "outputs": []
    },
    {
      "cell_type": "code",
      "metadata": {
        "collapsed": true,
        "id": "9upSa7UtfVE-",
        "colab": {
          "base_uri": "https://localhost:8080/"
        },
        "outputId": "b9569f1d-edcb-4093-bee6-0b5970b2d6e3"
      },
      "source": [
        "# Check\n",
        "lesser_of_two_evens(2,4)"
      ],
      "execution_count": null,
      "outputs": [
        {
          "output_type": "execute_result",
          "data": {
            "text/plain": [
              "2"
            ]
          },
          "metadata": {
            "tags": []
          },
          "execution_count": 5
        }
      ]
    },
    {
      "cell_type": "code",
      "metadata": {
        "collapsed": true,
        "id": "Cxde6IwYfVE_",
        "colab": {
          "base_uri": "https://localhost:8080/"
        },
        "outputId": "64492e6a-cff1-4cd7-e743-f6b5e654ba74"
      },
      "source": [
        "# Check\n",
        "lesser_of_two_evens(2,5)"
      ],
      "execution_count": null,
      "outputs": [
        {
          "output_type": "execute_result",
          "data": {
            "text/plain": [
              "5"
            ]
          },
          "metadata": {
            "tags": []
          },
          "execution_count": 6
        }
      ]
    },
    {
      "cell_type": "markdown",
      "metadata": {
        "id": "sFj7kZnTfVE_"
      },
      "source": [
        "#### ANIMAL CRACKERS: Write a function takes a two-word string and returns True if both words begin with same letter\n",
        "    animal_crackers('Levelheaded Llama') --> True\n",
        "    animal_crackers('Crazy Kangaroo') --> False"
      ]
    },
    {
      "cell_type": "code",
      "metadata": {
        "colab": {
          "base_uri": "https://localhost:8080/"
        },
        "id": "KEpQ6zIprTZ3",
        "outputId": "9da2cc91-c064-426f-f1f5-6779b2ef3595"
      },
      "source": [
        "st=\"hfbhf jvnjd jvnfj\"\r\n",
        "s1,s2,s3=st.split()\r\n",
        "print(s1,s2)"
      ],
      "execution_count": null,
      "outputs": [
        {
          "output_type": "stream",
          "text": [
            "hfbhf jvnjd\n"
          ],
          "name": "stdout"
        }
      ]
    },
    {
      "cell_type": "code",
      "metadata": {
        "collapsed": true,
        "id": "41QhC5TVfVFA"
      },
      "source": [
        "def animal_crackers(text):\n",
        "  str1,str2=text.split()\n",
        "  if str1[0].upper() == str2[0].upper():\n",
        "    return True\n",
        "  else:\n",
        "    return False"
      ],
      "execution_count": null,
      "outputs": []
    },
    {
      "cell_type": "code",
      "metadata": {
        "collapsed": true,
        "id": "iGcRExG3fVFA",
        "colab": {
          "base_uri": "https://localhost:8080/"
        },
        "outputId": "9fabcd82-5f8d-440b-cdee-7d9e9f721025"
      },
      "source": [
        "# Check\n",
        "animal_crackers('Levelheaded Llama')"
      ],
      "execution_count": null,
      "outputs": [
        {
          "output_type": "execute_result",
          "data": {
            "text/plain": [
              "True"
            ]
          },
          "metadata": {
            "tags": []
          },
          "execution_count": 13
        }
      ]
    },
    {
      "cell_type": "code",
      "metadata": {
        "collapsed": true,
        "id": "IteaVo6RfVFB",
        "colab": {
          "base_uri": "https://localhost:8080/"
        },
        "outputId": "a9c24ec2-e1ed-42b5-f904-3213824ea591"
      },
      "source": [
        "# Check\n",
        "animal_crackers('Crazy Kangaroo')"
      ],
      "execution_count": null,
      "outputs": [
        {
          "output_type": "execute_result",
          "data": {
            "text/plain": [
              "False"
            ]
          },
          "metadata": {
            "tags": []
          },
          "execution_count": 14
        }
      ]
    },
    {
      "cell_type": "markdown",
      "metadata": {
        "id": "6EXwbV4DfVFC"
      },
      "source": [
        "**Question 4\n",
        "Use a list comprehension to create a list of squared numbers (n*n). The function receives the variables start and end, and returns a list of squares of consecutive numbers between start and end inclusively. For example, squares(2, 3) should return [4, 9]**"
      ]
    },
    {
      "cell_type": "code",
      "metadata": {
        "colab": {
          "base_uri": "https://localhost:8080/"
        },
        "id": "bmuTbj-fs8FQ",
        "outputId": "ab8bbb22-4036-4372-e0ce-b39c92285243"
      },
      "source": [
        "[val**2 for val in range(1,5)]"
      ],
      "execution_count": null,
      "outputs": [
        {
          "output_type": "execute_result",
          "data": {
            "text/plain": [
              "[1, 4, 9, 16]"
            ]
          },
          "metadata": {
            "tags": []
          },
          "execution_count": 19
        }
      ]
    },
    {
      "cell_type": "code",
      "metadata": {
        "id": "oiThO-gPfVFC"
      },
      "source": [
        "def squares(start, end):\n",
        "    return [val**2 for val in range(start, end+1)]"
      ],
      "execution_count": null,
      "outputs": []
    },
    {
      "cell_type": "code",
      "metadata": {
        "id": "uBiXXV1gfVFD",
        "colab": {
          "base_uri": "https://localhost:8080/"
        },
        "outputId": "9bd0a97a-d806-4543-90e8-5584d36494fd"
      },
      "source": [
        "print(squares(2, 3)) # Should be [4, 9]\n",
        "print(squares(1, 5)) # Should be [1, 4, 9, 16, 25]\n",
        "print(squares(0, 10)) # Should be [0, 1, 4, 9, 16, 25, 36, 49, 64, 81, 100]"
      ],
      "execution_count": null,
      "outputs": [
        {
          "output_type": "stream",
          "text": [
            "[4, 9]\n",
            "[1, 4, 9, 16, 25]\n",
            "[0, 1, 4, 9, 16, 25, 36, 49, 64, 81, 100]\n"
          ],
          "name": "stdout"
        }
      ]
    },
    {
      "cell_type": "markdown",
      "metadata": {
        "id": "FXa0Q_iDfVFD"
      },
      "source": [
        "#### MAKES TWENTY: Given two integers, return True if the sum of the integers is 20 *or* if one of the integers is 20. If not, return False\n",
        "\n",
        "    makes_twenty(20,10) --> True\n",
        "    makes_twenty(12,8) --> True\n",
        "    makes_twenty(2,3) --> False"
      ]
    },
    {
      "cell_type": "code",
      "metadata": {
        "collapsed": true,
        "id": "SW11STiUfVFE"
      },
      "source": [
        "def makes_twenty(n1,n2):\n",
        "  if (int(n1) + int(n2))==20 or n1==20 or n2==20:\n",
        "    return True\n",
        "  else:\n",
        "    return False"
      ],
      "execution_count": null,
      "outputs": []
    },
    {
      "cell_type": "code",
      "metadata": {
        "collapsed": true,
        "id": "DiJ0DWuZfVFE",
        "colab": {
          "base_uri": "https://localhost:8080/"
        },
        "outputId": "6086aed7-45a3-4ff8-92ea-abc6404531ee"
      },
      "source": [
        "# Check\n",
        "makes_twenty(20,10)"
      ],
      "execution_count": null,
      "outputs": [
        {
          "output_type": "execute_result",
          "data": {
            "text/plain": [
              "True"
            ]
          },
          "metadata": {
            "tags": []
          },
          "execution_count": 27
        }
      ]
    },
    {
      "cell_type": "code",
      "metadata": {
        "collapsed": true,
        "id": "DlRvA_a5fVFF",
        "colab": {
          "base_uri": "https://localhost:8080/"
        },
        "outputId": "877c5d14-9fd5-4599-bb1b-ddfb46411db8"
      },
      "source": [
        "# Check\n",
        "makes_twenty(2,3)"
      ],
      "execution_count": null,
      "outputs": [
        {
          "output_type": "execute_result",
          "data": {
            "text/plain": [
              "False"
            ]
          },
          "metadata": {
            "tags": []
          },
          "execution_count": 28
        }
      ]
    },
    {
      "cell_type": "markdown",
      "metadata": {
        "id": "PC5lo4a6fVFG"
      },
      "source": [
        "# LEVEL 1 PROBLEMS"
      ]
    },
    {
      "cell_type": "markdown",
      "metadata": {
        "id": "cNfkObD-fVFH"
      },
      "source": [
        "#### OLD MACDONALD: Write a function that capitalizes the first and fourth letters of a name\n",
        "     \n",
        "    old_macdonald('macdonald') --> MacDonald\n",
        "    \n",
        "Note: `'macdonald'.capitalize()` returns `'Macdonald'`"
      ]
    },
    {
      "cell_type": "code",
      "metadata": {
        "colab": {
          "base_uri": "https://localhost:8080/"
        },
        "id": "iJwgKfIExGFn",
        "outputId": "8c137243-e8e9-4f73-b43a-6cfd916e6f1a"
      },
      "source": [
        "st=\"sasikunjsj\"\r\n",
        "a=st[0:3]\r\n",
        "b=st[3:]\r\n",
        "print(a.capitalize()+b.capitalize())"
      ],
      "execution_count": null,
      "outputs": [
        {
          "output_type": "stream",
          "text": [
            "SasIkunjsj\n"
          ],
          "name": "stdout"
        }
      ]
    },
    {
      "cell_type": "code",
      "metadata": {
        "collapsed": true,
        "id": "O5IQJWPMfVFH"
      },
      "source": [
        "def old_macdonald(name):\n",
        "  name=name.lower()\n",
        "  a=name[0:3]\n",
        "  b=name[3:]\n",
        "  print(a.capitalize()+b.capitalize())"
      ],
      "execution_count": null,
      "outputs": []
    },
    {
      "cell_type": "code",
      "metadata": {
        "collapsed": true,
        "id": "MX4ddwNRfVFI",
        "colab": {
          "base_uri": "https://localhost:8080/"
        },
        "outputId": "03a4db6e-7cd2-4947-d9d8-15e9d776cf87"
      },
      "source": [
        "# Check\n",
        "old_macdonald('macdonald')"
      ],
      "execution_count": null,
      "outputs": [
        {
          "output_type": "stream",
          "text": [
            "MacDonald\n"
          ],
          "name": "stdout"
        }
      ]
    },
    {
      "cell_type": "markdown",
      "metadata": {
        "id": "Q8eTMXyAfVFI"
      },
      "source": [
        "#### MASTER YODA: Given a sentence, return a sentence with the words reversed\n",
        "\n",
        "    master_yoda('I am home') --> 'home am I'\n",
        "    master_yoda('We are ready') --> 'ready are We'\n",
        "    \n",
        "Note: The .join() method may be useful here. The .join() method allows you to join together strings in a list with some connector string. For example, some uses of the .join() method:\n",
        "\n",
        "    >>> \"--\".join(['a','b','c'])\n",
        "    >>> 'a--b--c'\n",
        "\n",
        "This means if you had a list of words you wanted to turn back into a sentence, you could just join them with a single space string:\n",
        "\n",
        "    >>> \" \".join(['Hello','world'])\n",
        "    >>> \"Hello world\""
      ]
    },
    {
      "cell_type": "code",
      "metadata": {
        "id": "58IFjWeey-LD",
        "colab": {
          "base_uri": "https://localhost:8080/",
          "height": 35
        },
        "outputId": "1e7cc26f-0e54-4430-fb40-c35260b8fa09"
      },
      "source": [
        "text='Sasi AI ML'\r\n",
        "text=text.split()\r\n",
        "text=text[::-1]\r\n",
        "\" \".join(text)"
      ],
      "execution_count": 39,
      "outputs": [
        {
          "output_type": "execute_result",
          "data": {
            "application/vnd.google.colaboratory.intrinsic+json": {
              "type": "string"
            },
            "text/plain": [
              "'ML AI Sasi'"
            ]
          },
          "metadata": {
            "tags": []
          },
          "execution_count": 39
        }
      ]
    },
    {
      "cell_type": "code",
      "metadata": {
        "collapsed": true,
        "id": "JPB4GFkcfVFJ"
      },
      "source": [
        "def master_yoda(text):\n",
        "  res=text.split()\n",
        "  res=res[::-1]\n",
        "  print(\" \".join(res))"
      ],
      "execution_count": 45,
      "outputs": []
    },
    {
      "cell_type": "code",
      "metadata": {
        "collapsed": true,
        "id": "i1C2W8yafVFJ",
        "colab": {
          "base_uri": "https://localhost:8080/"
        },
        "outputId": "bba8be9c-aee9-4ba3-9e46-2b80edadbfa4"
      },
      "source": [
        "# Check\n",
        "master_yoda('I am home')"
      ],
      "execution_count": 46,
      "outputs": [
        {
          "output_type": "stream",
          "text": [
            "home am I\n"
          ],
          "name": "stdout"
        }
      ]
    },
    {
      "cell_type": "code",
      "metadata": {
        "collapsed": true,
        "id": "Ftkpa6OJfVFJ",
        "colab": {
          "base_uri": "https://localhost:8080/"
        },
        "outputId": "b126712a-6de7-4577-846b-1ce6fdf74f28"
      },
      "source": [
        "# Check\n",
        "master_yoda('We are ready')"
      ],
      "execution_count": 47,
      "outputs": [
        {
          "output_type": "stream",
          "text": [
            "ready are We\n"
          ],
          "name": "stdout"
        }
      ]
    },
    {
      "cell_type": "markdown",
      "metadata": {
        "id": "OseJTPqNfVFK"
      },
      "source": [
        "#### ALMOST THERE: Given an integer n, return True if n is within 10 of either 100 or 200\n",
        "\n",
        "    almost_there(90) --> True\n",
        "    almost_there(104) --> True\n",
        "    almost_there(150) --> False\n",
        "    almost_there(209) --> True\n",
        "    \n",
        "NOTE: `abs(num)` returns the absolute value of a number"
      ]
    },
    {
      "cell_type": "code",
      "metadata": {
        "collapsed": true,
        "id": "z9ljTm3wfVFK"
      },
      "source": [
        "def almost_there(n):\n",
        "  if abs(100-n)<10 or abs(200-n)<10:\n",
        "    return True\n",
        "  else:\n",
        "    return False"
      ],
      "execution_count": 63,
      "outputs": []
    },
    {
      "cell_type": "code",
      "metadata": {
        "collapsed": true,
        "id": "tUO_Ejf4fVFL",
        "colab": {
          "base_uri": "https://localhost:8080/"
        },
        "outputId": "29470ab1-aaf1-4d65-af6d-063acc901f69"
      },
      "source": [
        "# Check\n",
        "almost_there(104)"
      ],
      "execution_count": 64,
      "outputs": [
        {
          "output_type": "execute_result",
          "data": {
            "text/plain": [
              "True"
            ]
          },
          "metadata": {
            "tags": []
          },
          "execution_count": 64
        }
      ]
    },
    {
      "cell_type": "code",
      "metadata": {
        "collapsed": true,
        "id": "b8Lbz5Y9fVFL",
        "colab": {
          "base_uri": "https://localhost:8080/"
        },
        "outputId": "16cdce19-4eac-464d-c7a0-ce0096550345"
      },
      "source": [
        "# Check\n",
        "almost_there(150)"
      ],
      "execution_count": 65,
      "outputs": [
        {
          "output_type": "execute_result",
          "data": {
            "text/plain": [
              "False"
            ]
          },
          "metadata": {
            "tags": []
          },
          "execution_count": 65
        }
      ]
    },
    {
      "cell_type": "code",
      "metadata": {
        "collapsed": true,
        "id": "JE_ly6sefVFM",
        "colab": {
          "base_uri": "https://localhost:8080/"
        },
        "outputId": "57af0638-b662-4789-873f-195f6da6852a"
      },
      "source": [
        "# Check\n",
        "almost_there(209)"
      ],
      "execution_count": 66,
      "outputs": [
        {
          "output_type": "execute_result",
          "data": {
            "text/plain": [
              "True"
            ]
          },
          "metadata": {
            "tags": []
          },
          "execution_count": 66
        }
      ]
    },
    {
      "cell_type": "markdown",
      "metadata": {
        "id": "wkY5KGrJfVFM"
      },
      "source": [
        "**The highlight_word function changes the given word in a sentence to its upper-case version. For example, highlight_word(\"Have a nice day\", \"nice\") returns \"Have a NICE day\". Can you write this function in just one line?**"
      ]
    },
    {
      "cell_type": "code",
      "metadata": {
        "id": "wxy9zZ0TfVFN"
      },
      "source": [
        "def highlight_word(sentence, word):\n",
        "    return sentence.replace(word,word.upper())"
      ],
      "execution_count": 71,
      "outputs": []
    },
    {
      "cell_type": "code",
      "metadata": {
        "id": "GQY_Qb9GfVFN",
        "colab": {
          "base_uri": "https://localhost:8080/"
        },
        "outputId": "9af40bf5-e2fa-4fcc-8eea-7e95db9fd4b0"
      },
      "source": [
        "print(highlight_word(\"Have a nice day\", \"nice\"))\n",
        "# Have a NICE day\n",
        "print(highlight_word(\"Shhh, don't be so loud!\", \"loud\"))\n",
        "#Shhh, don't be so LOUD!\n",
        "print(highlight_word(\"Automating with Python is fun\", \"fun\"))\n",
        "#Automating with Python is FUN"
      ],
      "execution_count": 72,
      "outputs": [
        {
          "output_type": "stream",
          "text": [
            "Have a NICE day\n",
            "Shhh, don't be so LOUD!\n",
            "Automating with Python is FUN\n"
          ],
          "name": "stdout"
        }
      ]
    },
    {
      "cell_type": "markdown",
      "metadata": {
        "id": "juINM7pqfVFO"
      },
      "source": [
        "**Complete the code to iterate through the keys and values of the car_prices dictionary, printing out some information about each one**"
      ]
    },
    {
      "cell_type": "code",
      "metadata": {
        "id": "FK5yKssHfVFO",
        "colab": {
          "base_uri": "https://localhost:8080/"
        },
        "outputId": "30057a7a-9623-4d1d-be90-bbd1972a2d47"
      },
      "source": [
        "def car_listing(car_prices):\n",
        "  result =\"\"\n",
        "  for val in car_prices.keys():\n",
        "    result += \"{0} costs {1} dollars\".format(val,car_prices[val]) + \"\\n\"\n",
        "  return result\n",
        "\n",
        "print(car_listing({\"Kia Soul\":19000, \"Lamborghini Diablo\":55000, \"Ford Fiesta\":13000, \"Toyota Prius\":24000}))"
      ],
      "execution_count": 4,
      "outputs": [
        {
          "output_type": "stream",
          "text": [
            "Kia Soul costs 19000 dollars\n",
            "Lamborghini Diablo costs 55000 dollars\n",
            "Ford Fiesta costs 13000 dollars\n",
            "Toyota Prius costs 24000 dollars\n",
            "\n"
          ],
          "name": "stdout"
        }
      ]
    },
    {
      "cell_type": "markdown",
      "metadata": {
        "id": "dPsVlJ_dfVFP"
      },
      "source": [
        "# LEVEL 2 PROBLEMS"
      ]
    },
    {
      "cell_type": "markdown",
      "metadata": {
        "id": "zJl_04N1fVFP"
      },
      "source": [
        "#### FIND 33: \n",
        "\n",
        "Given a list of ints, return True if the array contains a 3 next to a 3 somewhere.\n",
        "\n",
        "    has_33([1, 3, 3]) → True\n",
        "    has_33([1, 3, 1, 3]) → False\n",
        "    has_33([3, 1, 3]) → False"
      ]
    },
    {
      "cell_type": "code",
      "metadata": {
        "id": "XprNhOUQAQfA"
      },
      "source": [
        "# def has_33(nums) :\r\n",
        "#   for x in range(len(nums)-1):\r\n",
        "#     if (nums[x] == 3) and (nums[x+1] == 3):\r\n",
        "#       return True\r\n",
        "#   return False"
      ],
      "execution_count": 11,
      "outputs": []
    },
    {
      "cell_type": "code",
      "metadata": {
        "collapsed": true,
        "id": "ymedt7R6fVFQ"
      },
      "source": [
        "def has_33(nums):\n",
        "  return any(x == y == 3 for x, y in zip(nums, nums[1:]))"
      ],
      "execution_count": 12,
      "outputs": []
    },
    {
      "cell_type": "code",
      "metadata": {
        "collapsed": true,
        "id": "3W4dSVsrfVFQ",
        "colab": {
          "base_uri": "https://localhost:8080/"
        },
        "outputId": "3c1fd60b-c164-4965-a425-1e1c7f8e751d"
      },
      "source": [
        "# Check\n",
        "has_33([1, 3, 3])"
      ],
      "execution_count": 8,
      "outputs": [
        {
          "output_type": "execute_result",
          "data": {
            "text/plain": [
              "True"
            ]
          },
          "metadata": {
            "tags": []
          },
          "execution_count": 8
        }
      ]
    },
    {
      "cell_type": "code",
      "metadata": {
        "collapsed": true,
        "id": "jVEUWxrVfVFR",
        "colab": {
          "base_uri": "https://localhost:8080/"
        },
        "outputId": "18abdda9-2684-4d40-aca5-55174ab990c3"
      },
      "source": [
        "# Check\n",
        "has_33([1, 3, 1, 3])"
      ],
      "execution_count": 9,
      "outputs": [
        {
          "output_type": "execute_result",
          "data": {
            "text/plain": [
              "False"
            ]
          },
          "metadata": {
            "tags": []
          },
          "execution_count": 9
        }
      ]
    },
    {
      "cell_type": "code",
      "metadata": {
        "collapsed": true,
        "id": "5czR8Xz5fVFR",
        "colab": {
          "base_uri": "https://localhost:8080/"
        },
        "outputId": "8404b6b1-4abc-4d59-c5d7-ad1c53d5dd87"
      },
      "source": [
        "# Check\n",
        "has_33([3, 1, 3])"
      ],
      "execution_count": 10,
      "outputs": [
        {
          "output_type": "execute_result",
          "data": {
            "text/plain": [
              "False"
            ]
          },
          "metadata": {
            "tags": []
          },
          "execution_count": 10
        }
      ]
    },
    {
      "cell_type": "markdown",
      "metadata": {
        "id": "Oc5i--7vfVFR"
      },
      "source": [
        "#### PAPER DOLL: Given a string, return a string where for every character in the original there are three characters\n",
        "    paper_doll('Hello') --> 'HHHeeellllllooo'\n",
        "    paper_doll('Mississippi') --> 'MMMiiissssssiiippppppiii'"
      ]
    },
    {
      "cell_type": "code",
      "metadata": {
        "collapsed": true,
        "id": "62Y66qq3fVFS"
      },
      "source": [
        "def paper_doll(text):\n",
        "  res=\"\"\n",
        "  for item in text:\n",
        "    for i in range(3):\n",
        "      res +=item\n",
        "  return res"
      ],
      "execution_count": 19,
      "outputs": []
    },
    {
      "cell_type": "code",
      "metadata": {
        "collapsed": true,
        "id": "a6BRJwkYfVFS",
        "colab": {
          "base_uri": "https://localhost:8080/",
          "height": 35
        },
        "outputId": "61118670-4354-423e-d716-1ea5d9a41748"
      },
      "source": [
        "# Check\n",
        "paper_doll('Hello')"
      ],
      "execution_count": 20,
      "outputs": [
        {
          "output_type": "execute_result",
          "data": {
            "application/vnd.google.colaboratory.intrinsic+json": {
              "type": "string"
            },
            "text/plain": [
              "'HHHeeellllllooo'"
            ]
          },
          "metadata": {
            "tags": []
          },
          "execution_count": 20
        }
      ]
    },
    {
      "cell_type": "code",
      "metadata": {
        "collapsed": true,
        "id": "yqWfnMSufVFT",
        "colab": {
          "base_uri": "https://localhost:8080/",
          "height": 35
        },
        "outputId": "9ac682d2-eb45-42c2-b408-d63a81850952"
      },
      "source": [
        "# Check\n",
        "paper_doll('Mississippi')"
      ],
      "execution_count": 21,
      "outputs": [
        {
          "output_type": "execute_result",
          "data": {
            "application/vnd.google.colaboratory.intrinsic+json": {
              "type": "string"
            },
            "text/plain": [
              "'MMMiiissssssiiissssssiiippppppiii'"
            ]
          },
          "metadata": {
            "tags": []
          },
          "execution_count": 21
        }
      ]
    },
    {
      "cell_type": "markdown",
      "metadata": {
        "id": "O9Mq-cLrfVFT"
      },
      "source": [
        "#### BLACKJACK: Given three integers between 1 and 11, if their sum is less than or equal to 21, return their sum. If their sum exceeds 21 *and* there's an eleven, reduce the total sum by 10. Finally, if the sum (even after adjustment) exceeds 21, return 'BUST'\n",
        "    blackjack(5,6,7) --> 18\n",
        "    blackjack(9,9,9) --> 'BUST'\n",
        "    blackjack(9,9,11) --> 19"
      ]
    },
    {
      "cell_type": "code",
      "metadata": {
        "collapsed": true,
        "id": "8Ur-Fi9qfVFT"
      },
      "source": [
        "def blackjack(a,b,c):\n",
        "  sum=a+b+c\n",
        "  if sum<=21:\n",
        "    return sum\n",
        "  elif sum>21 and 11 in (a,b,c):\n",
        "    sum=sum-10\n",
        "    if sum < 21:\n",
        "      return sum\n",
        "  elif sum>21:\n",
        "    return (\"BUST\",sum)"
      ],
      "execution_count": 44,
      "outputs": []
    },
    {
      "cell_type": "code",
      "metadata": {
        "collapsed": true,
        "id": "o1CoZNn-fVFU",
        "colab": {
          "base_uri": "https://localhost:8080/"
        },
        "outputId": "1a315ba9-6868-4936-a914-fb073e004758"
      },
      "source": [
        "# Check\n",
        "blackjack(5,6,7)"
      ],
      "execution_count": 45,
      "outputs": [
        {
          "output_type": "execute_result",
          "data": {
            "text/plain": [
              "18"
            ]
          },
          "metadata": {
            "tags": []
          },
          "execution_count": 45
        }
      ]
    },
    {
      "cell_type": "code",
      "metadata": {
        "collapsed": true,
        "id": "LynF4HfgfVFU",
        "colab": {
          "base_uri": "https://localhost:8080/"
        },
        "outputId": "155b2420-1bb3-4888-c7f9-5b123c099368"
      },
      "source": [
        "# Check\n",
        "blackjack(9,9,9)"
      ],
      "execution_count": 46,
      "outputs": [
        {
          "output_type": "execute_result",
          "data": {
            "text/plain": [
              "('BUST', 27)"
            ]
          },
          "metadata": {
            "tags": []
          },
          "execution_count": 46
        }
      ]
    },
    {
      "cell_type": "code",
      "metadata": {
        "collapsed": true,
        "id": "F0YMocM6fVFU",
        "colab": {
          "base_uri": "https://localhost:8080/"
        },
        "outputId": "d27e9d1c-bbcd-4852-de54-9ce343321588"
      },
      "source": [
        "# Check\n",
        "blackjack(9,9,11)"
      ],
      "execution_count": 47,
      "outputs": [
        {
          "output_type": "execute_result",
          "data": {
            "text/plain": [
              "19"
            ]
          },
          "metadata": {
            "tags": []
          },
          "execution_count": 47
        }
      ]
    },
    {
      "cell_type": "markdown",
      "metadata": {
        "id": "ivNwQIyEfVFV"
      },
      "source": [
        "#### SUMMER OF '69: Return the sum of the numbers in the array, except ignore sections of numbers starting with a 6 and extending to the next 9 (every 6 will be followed by at least one 9). Return 0 for no numbers.\n",
        " \n",
        "    summer_69([1, 3, 5]) --> 9\n",
        "    summer_69([4, 5, 6, 7, 8, 9]) --> 9\n",
        "    summer_69([2, 1, 6, 9, 11]) --> 14"
      ]
    },
    {
      "cell_type": "code",
      "metadata": {
        "collapsed": true,
        "id": "TJXspiJZfVFV"
      },
      "source": [
        "def summer_69(arr):\n",
        "  Track = True\n",
        "  sum = 0\n",
        "  for val in arr:\n",
        "    if val == 6:\n",
        "      Track = False\n",
        "    if Track:\n",
        "      sum += val\n",
        "      continue\n",
        "    if val == 9:\n",
        "      Track = True\n",
        "  return sum"
      ],
      "execution_count": 56,
      "outputs": []
    },
    {
      "cell_type": "code",
      "metadata": {
        "collapsed": true,
        "id": "4HnqnKvwfVFY",
        "colab": {
          "base_uri": "https://localhost:8080/"
        },
        "outputId": "1c8416a7-7519-4c52-f552-fea2b6c4c324"
      },
      "source": [
        "# Check\n",
        "summer_69([1, 3, 5])"
      ],
      "execution_count": 57,
      "outputs": [
        {
          "output_type": "execute_result",
          "data": {
            "text/plain": [
              "9"
            ]
          },
          "metadata": {
            "tags": []
          },
          "execution_count": 57
        }
      ]
    },
    {
      "cell_type": "code",
      "metadata": {
        "collapsed": true,
        "id": "u4eKAHDPfVFY",
        "colab": {
          "base_uri": "https://localhost:8080/"
        },
        "outputId": "3f2a2988-358a-4fd7-84af-491597f4644d"
      },
      "source": [
        "# Check\n",
        "summer_69([4, 5, 6, 7, 8, 9])"
      ],
      "execution_count": 58,
      "outputs": [
        {
          "output_type": "execute_result",
          "data": {
            "text/plain": [
              "9"
            ]
          },
          "metadata": {
            "tags": []
          },
          "execution_count": 58
        }
      ]
    },
    {
      "cell_type": "code",
      "metadata": {
        "collapsed": true,
        "id": "rv2Z35AQfVFZ",
        "colab": {
          "base_uri": "https://localhost:8080/"
        },
        "outputId": "7d2ca4c5-0661-4e89-e86d-8a5656aa08da"
      },
      "source": [
        "# Check\n",
        "summer_69([2, 1, 6, 9, 11])"
      ],
      "execution_count": 59,
      "outputs": [
        {
          "output_type": "execute_result",
          "data": {
            "text/plain": [
              "14"
            ]
          },
          "metadata": {
            "tags": []
          },
          "execution_count": 59
        }
      ]
    },
    {
      "cell_type": "markdown",
      "metadata": {
        "id": "9ou2vJHFfVFa"
      },
      "source": [
        "**Taylor and Rory are hosting a party. They sent out invitations, and each one collected responses into dictionaries, with names of their friends and how many guests each friend is bringing. Each dictionary is a partial list, but Rory's list has more current information about the number of guests. Fill in the blanks to combine both dictionaries into one, with each friend listed only once, and the number of guests from Rory's dictionary taking precedence, if a name is included in both dictionaries. Then print the resulting dictionary.**"
      ]
    },
    {
      "cell_type": "code",
      "metadata": {
        "id": "uVNJ4mNIfVFb",
        "colab": {
          "base_uri": "https://localhost:8080/"
        },
        "outputId": "3581c42e-d664-4140-d0c2-95d166cd9d94"
      },
      "source": [
        "def combine_guests(guests1, guests2):\n",
        "  # Combine both dictionaries into one, with each key listed \n",
        "  # only once, and the value from guests1 taking precedence\n",
        "  guests2.update(guests1)\n",
        "  return guests2\n",
        "\n",
        "Rorys_guests = { \"Adam\":2, \"Brenda\":3, \"David\":1, \"Jose\":3, \"Charlotte\":2, \"Terry\":1, \"Robert\":4}\n",
        "Taylors_guests = { \"David\":4, \"Nancy\":1, \"Robert\":2, \"Adam\":1, \"Samantha\":3, \"Chris\":5}\n",
        "\n",
        "print(combine_guests(Rorys_guests, Taylors_guests))\n",
        "# shuld give {'David': 1, 'Nancy': 1, 'Robert': 4, 'Adam': 2, 'Samantha': 3, 'Chris': 5, 'Brenda': 3, 'Jose': 3, 'Charlotte': 2, 'Terry': 1}"
      ],
      "execution_count": 61,
      "outputs": [
        {
          "output_type": "stream",
          "text": [
            "{'David': 1, 'Nancy': 1, 'Robert': 4, 'Adam': 2, 'Samantha': 3, 'Chris': 5, 'Brenda': 3, 'Jose': 3, 'Charlotte': 2, 'Terry': 1}\n"
          ],
          "name": "stdout"
        }
      ]
    },
    {
      "cell_type": "code",
      "metadata": {
        "id": "7is_DwuyfVFb"
      },
      "source": [
        ""
      ],
      "execution_count": null,
      "outputs": []
    },
    {
      "cell_type": "markdown",
      "metadata": {
        "id": "9_Tfx1UufVFb"
      },
      "source": [
        "# CHALLENGING PROBLEMS"
      ]
    },
    {
      "cell_type": "markdown",
      "metadata": {
        "id": "T0pNR4FdfVFc"
      },
      "source": [
        "#### SPY GAME: Write a function that takes in a list of integers and returns True if it contains 007 in order\n",
        "\n",
        "     spy_game([1,2,4,0,0,7,5]) --> True\n",
        "     spy_game([1,0,2,4,0,5,7]) --> True\n",
        "     spy_game([1,7,2,0,4,5,0]) --> False\n"
      ]
    },
    {
      "cell_type": "code",
      "metadata": {
        "id": "AdQLzZVUfVFc"
      },
      "source": [
        "def spy_game(nums):\n",
        "  count=0\n",
        "  for i in nums:\n",
        "    if(i==0 and count==0):\n",
        "      count=1\n",
        "    if(i==0 and count==1):\n",
        "      count=2\n",
        "    if(i==7 and count ==2):\n",
        "      count =3\n",
        "  if count==3:\n",
        "    return True\n",
        "  else:\n",
        "    return False"
      ],
      "execution_count": 62,
      "outputs": []
    },
    {
      "cell_type": "code",
      "metadata": {
        "id": "OwZGJ4vGfVFe",
        "colab": {
          "base_uri": "https://localhost:8080/"
        },
        "outputId": "cd643260-0389-49a7-cc42-1f00723a8bc7"
      },
      "source": [
        "# Check\n",
        "spy_game([1,2,4,0,0,7,5])"
      ],
      "execution_count": 63,
      "outputs": [
        {
          "output_type": "execute_result",
          "data": {
            "text/plain": [
              "True"
            ]
          },
          "metadata": {
            "tags": []
          },
          "execution_count": 63
        }
      ]
    },
    {
      "cell_type": "code",
      "metadata": {
        "collapsed": true,
        "id": "IIu3hB8pfVFf",
        "colab": {
          "base_uri": "https://localhost:8080/"
        },
        "outputId": "82abcbaa-bca3-4cd3-9470-28ba965565cf"
      },
      "source": [
        "# Check\n",
        "spy_game([1,0,2,4,0,5,7])"
      ],
      "execution_count": 64,
      "outputs": [
        {
          "output_type": "execute_result",
          "data": {
            "text/plain": [
              "True"
            ]
          },
          "metadata": {
            "tags": []
          },
          "execution_count": 64
        }
      ]
    },
    {
      "cell_type": "code",
      "metadata": {
        "collapsed": true,
        "id": "rzWw96GBfVFf",
        "colab": {
          "base_uri": "https://localhost:8080/"
        },
        "outputId": "c8869afb-117b-46de-bfec-becdc725c518"
      },
      "source": [
        "# Check\n",
        "spy_game([1,7,2,0,4,5,0])"
      ],
      "execution_count": 65,
      "outputs": [
        {
          "output_type": "execute_result",
          "data": {
            "text/plain": [
              "False"
            ]
          },
          "metadata": {
            "tags": []
          },
          "execution_count": 65
        }
      ]
    },
    {
      "cell_type": "markdown",
      "metadata": {
        "id": "DIIcxNUJfVFf"
      },
      "source": [
        "#### COUNT PRIMES: Write a function that returns the *number* of prime numbers that exist up to and including a given number\n",
        "    count_primes(100) --> 25\n",
        "\n",
        "By convention, 0 and 1 are not prime."
      ]
    },
    {
      "cell_type": "code",
      "metadata": {
        "collapsed": true,
        "id": "n2o1lxNbfVFg"
      },
      "source": [
        "def count_primes(num):\n",
        "  i = 0\n",
        "  for item in range(num+1):\n",
        "    if item <=1:\n",
        "      continue\n",
        "    if item == 2:\n",
        "      i=1\n",
        "      continue\n",
        "    for n in range(2,item):\n",
        "      if item % n == 0:\n",
        "        break\n",
        "    else:\n",
        "      i +=1 \n",
        "  return i          "
      ],
      "execution_count": 87,
      "outputs": []
    },
    {
      "cell_type": "code",
      "metadata": {
        "collapsed": true,
        "id": "W0R8-T7dfVFg",
        "colab": {
          "base_uri": "https://localhost:8080/"
        },
        "outputId": "d98039f8-4908-4df2-a132-00153788b400"
      },
      "source": [
        "# Check\n",
        "count_primes(100)"
      ],
      "execution_count": 86,
      "outputs": [
        {
          "output_type": "execute_result",
          "data": {
            "text/plain": [
              "25"
            ]
          },
          "metadata": {
            "tags": []
          },
          "execution_count": 86
        }
      ]
    },
    {
      "cell_type": "markdown",
      "metadata": {
        "id": "X4O4PDGAfVFh"
      },
      "source": [
        "### Just for fun:\n",
        "#### PRINT BIG: Write a function that takes in a single letter, and returns a 5x5 representation of that letter\n",
        "    print_big('a')\n",
        "    \n",
        "    out:   *  \n",
        "          * *\n",
        "         *****\n",
        "         *   *\n",
        "         *   *\n",
        "HINT: Consider making a dictionary of possible patterns, and mapping the alphabet to specific 5-line combinations of patterns. <br>For purposes of this exercise, it's ok if your dictionary stops at \"E\"."
      ]
    },
    {
      "cell_type": "code",
      "metadata": {
        "collapsed": true,
        "id": "2dqsi5qefVFh"
      },
      "source": [
        "def print_big(letter):\n",
        "  patterns = {1:'  *  ',2:' * * ',3:'*   *',4:'*****',5:'**** ',6:'   * ',7:' *   ',8:'*   * ',9:'*    '}\n",
        "  alphabet = {'A':[1,2,4,3,3],'B':[5,3,5,3,5],'C':[4,9,9,9,4],'D':[5,3,3,3,5],'E':[4,9,4,9,4]}\n",
        "  for pattern in alphabet[letter.upper()]:\n",
        "    print(patterns[pattern])"
      ],
      "execution_count": 88,
      "outputs": []
    },
    {
      "cell_type": "code",
      "metadata": {
        "collapsed": true,
        "id": "Mrr8HLmefVFh",
        "colab": {
          "base_uri": "https://localhost:8080/"
        },
        "outputId": "b6c4c6ee-d14b-4eb8-cb6e-21d53e203e6b"
      },
      "source": [
        "print_big('E')"
      ],
      "execution_count": 96,
      "outputs": [
        {
          "output_type": "stream",
          "text": [
            "*****\n",
            "*    \n",
            "*****\n",
            "*    \n",
            "*****\n"
          ],
          "name": "stdout"
        }
      ]
    },
    {
      "cell_type": "markdown",
      "metadata": {
        "id": "cnKKjukvfVFi"
      },
      "source": [
        "**The format_address function separates out parts of the address string into new strings: house_number and street_name, and returns: \"house number X on street named Y\". The format of the input string is: numeric house number, followed by the street name which may contain numbers, but never by themselves, and could be several words long. For example, \"123 Main Street\", \"1001 1st Ave\", or \"55 North Center Drive\". Fill in the gaps to complete this function.**"
      ]
    },
    {
      "cell_type": "code",
      "metadata": {
        "id": "pi17pDcdfVFi"
      },
      "source": [
        "def format_address(address_string):\n",
        "  # Declare variables\n",
        "  house_num=0\n",
        "  street_name=\"\"\n",
        "  ls=address_string.split()\n",
        "  # Separate the address string into parts\n",
        "  for item in ls:\n",
        "    if item.isdigit():\n",
        "      house_num=item\n",
        "    else:\n",
        "      street_name+=item\n",
        "  return \"house number {0} on street named {1}\".format(house_num,street_name)\n",
        "  # Traverse through the address parts\n",
        "\n",
        "    # Determine if the address part is the\n",
        "    # house number or part of the street name\n",
        "  # Does anything else need to be done \n",
        "  # before returning the result?\n",
        "  \n",
        "  # Return the formatted string  "
      ],
      "execution_count": 125,
      "outputs": []
    },
    {
      "cell_type": "code",
      "metadata": {
        "id": "6gj_xxvrfVFi",
        "colab": {
          "base_uri": "https://localhost:8080/"
        },
        "outputId": "7b9ea2e6-0adf-481b-a23d-c86e2f249a43"
      },
      "source": [
        "print(format_address(\"123 Main Street\"))\n",
        "# Should print: \"house number 123 on street named Main Street\""
      ],
      "execution_count": 126,
      "outputs": [
        {
          "output_type": "stream",
          "text": [
            "house number 123 on street named MainStreet\n"
          ],
          "name": "stdout"
        }
      ]
    },
    {
      "cell_type": "code",
      "metadata": {
        "id": "x6yWOfKWfVFj",
        "colab": {
          "base_uri": "https://localhost:8080/"
        },
        "outputId": "a10322af-58d5-4956-f0fe-6ed5139da8bd"
      },
      "source": [
        "print(format_address(\"1001 1st Ave\"))\n",
        "# Should print: \"house number 1001 on street named 1st Ave\""
      ],
      "execution_count": 119,
      "outputs": [
        {
          "output_type": "stream",
          "text": [
            "house number 1001 on street named 1stAve\n"
          ],
          "name": "stdout"
        }
      ]
    },
    {
      "cell_type": "code",
      "metadata": {
        "id": "qpdhAyuQfVFk",
        "colab": {
          "base_uri": "https://localhost:8080/"
        },
        "outputId": "cf247f2b-740b-4d92-a8df-2eb610832abe"
      },
      "source": [
        "print(format_address(\"55 North Center Drive\"))\n",
        "# Should print \"house number 55 on street named North Center Drive\""
      ],
      "execution_count": 120,
      "outputs": [
        {
          "output_type": "stream",
          "text": [
            "house number 55 on street named NorthCenterDrive\n"
          ],
          "name": "stdout"
        }
      ]
    },
    {
      "cell_type": "markdown",
      "metadata": {
        "id": "fX15GqRAfVFk"
      },
      "source": [
        "## Done All?\n",
        "## Great Job!"
      ]
    },
    {
      "cell_type": "code",
      "metadata": {
        "id": "zvrRC-8hfVFk"
      },
      "source": [
        ""
      ],
      "execution_count": null,
      "outputs": []
    }
  ]
}